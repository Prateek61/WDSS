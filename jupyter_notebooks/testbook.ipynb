{
 "cells": [
  {
   "cell_type": "code",
   "execution_count": null,
   "metadata": {},
   "outputs": [],
   "source": []
  },
  {
   "cell_type": "code",
   "execution_count": null,
   "metadata": {},
   "outputs": [],
   "source": [
    "import pywt\n",
    "import numpy as np\n",
    "from PIL import Image\n",
    "\n",
    "# Load the image\n",
    "image = Image.open('image.png').convert('L')\n",
    "image_array = np.array(image)\n",
    "\n",
    "# Perform wavelet transform\n",
    "coeffs2 = pywt.dwt2(image_array, 'haar')\n",
    "LL, (LH, HL, HH) = coeffs2\n",
    "\n",
    "# Normalize the arrays to the range [0, 255]\n",
    "def normalize(arr):\n",
    "    arr = arr - np.min(arr)\n",
    "    arr = arr / np.max(arr)\n",
    "    arr = (arr * 255).astype(np.uint8)\n",
    "    return arr\n",
    "\n",
    "LL = normalize(LL)\n",
    "LH = normalize(LH)\n",
    "HL = normalize(HL)\n",
    "HH = normalize(HH)\n",
    "\n",
    "# Convert the arrays to 'L' mode and save the transformed images\n",
    "Image.fromarray(LL).convert('L').save('LL.png')\n",
    "Image.fromarray(LH).convert('L').save('LH.png')\n",
    "Image.fromarray(HL).convert('L').save('HL.png')\n",
    "Image.fromarray(HH).convert('L').save('HH.png')"
   ]
  },
  {
   "cell_type": "code",
   "execution_count": 2,
   "metadata": {},
   "outputs": [
    {
     "name": "stdout",
     "output_type": "stream",
     "text": [
      "PSNR: 38.078176220319946 dB\n"
     ]
    }
   ],
   "source": [
    "# Perform inverse wavelet transform\n",
    "reconstructed_image = pywt.idwt2(coeffs2, 'haar')\n",
    "\n",
    "# Normalize the reconstructed image to the range [0, 255]\n",
    "reconstructed_image = normalize(reconstructed_image)\n",
    "\n",
    "# Calculate PSNR\n",
    "def calculate_psnr(original, reconstructed):\n",
    "    mse = np.mean((original - reconstructed) ** 2)\n",
    "    if mse == 0:\n",
    "        return float('inf')\n",
    "    max_pixel = 255.0\n",
    "    psnr = 20 * np.log10(max_pixel / np.sqrt(mse))\n",
    "    return psnr\n",
    "\n",
    "psnr_value = calculate_psnr(image_array, reconstructed_image)\n",
    "print(f'PSNR: {psnr_value} dB')"
   ]
  },
  {
   "cell_type": "code",
   "execution_count": null,
   "metadata": {},
   "outputs": [],
   "source": []
  }
 ],
 "metadata": {
  "kernelspec": {
   "display_name": "wdss",
   "language": "python",
   "name": "python3"
  },
  "language_info": {
   "codemirror_mode": {
    "name": "ipython",
    "version": 3
   },
   "file_extension": ".py",
   "mimetype": "text/x-python",
   "name": "python",
   "nbconvert_exporter": "python",
   "pygments_lexer": "ipython3",
   "version": "3.12.8"
  }
 },
 "nbformat": 4,
 "nbformat_minor": 2
}

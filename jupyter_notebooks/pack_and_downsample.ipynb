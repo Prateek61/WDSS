{
 "cells": [
  {
   "cell_type": "code",
   "execution_count": 1,
   "metadata": {},
   "outputs": [
    {
     "name": "stdout",
     "output_type": "stream",
     "text": [
      "c:\\Dev\\MinorProject\\WDSS\\jupyter_notebooks\n",
      "c:\\Dev\\MinorProject\\WDSS\n"
     ]
    }
   ],
   "source": [
    "import os\n",
    "# Display current working directory\n",
    "print(os.getcwd())\n",
    "# To make sure opencv imports .exr files\n",
    "os.environ[\"OPENCV_IO_ENABLE_OPENEXR\"] = \"1\"\n",
    "# If the current directory is not WDSS, then set it to one level up\n",
    "if os.getcwd()[-4:] != 'WDSS':\n",
    "    os.chdir('..')\n",
    "print(os.getcwd())"
   ]
  },
  {
   "cell_type": "code",
   "execution_count": 2,
   "metadata": {},
   "outputs": [],
   "source": [
    "import torch\n",
    "import torch.nn as nn\n",
    "import torch.nn.functional as F\n",
    "import torch.optim as optim\n",
    "from torch.optim.lr_scheduler import StepLR\n",
    "import numpy as np\n",
    "import cv2\n",
    "import matplotlib.pyplot as plt\n",
    "import time\n",
    "\n",
    "from typing import List, Tuple, Dict\n",
    "\n",
    "from utils.image_utils import ImageUtils\n",
    "from config import device, Settings\n",
    "from commons import initialize\n",
    "\n",
    "from network.dataset import *\n",
    "import tqdm"
   ]
  },
  {
   "cell_type": "code",
   "execution_count": 3,
   "metadata": {},
   "outputs": [],
   "source": [
    "# Import enum\n",
    "from enum import Enum\n",
    "\n",
    "class GBufferTypes(Enum):\n",
    "    NORMAL_SPECULAR = \"NormalSpecular\"\n",
    "    BASE_COLOR_DEPTH = \"BaseColorDepth\"\n",
    "    PRETONEMAP_METALLIC = \"PretonemapMetallic\"\n",
    "    MV_ROUGHNESS_NoV = \"MV_Roughness_NOV\""
   ]
  },
  {
   "cell_type": "code",
   "execution_count": 4,
   "metadata": {},
   "outputs": [],
   "source": [
    "def pack_normal_specular(path: str, frame_no: int):\n",
    "    normal_path = path + \"WorldNormal\"\n",
    "    specular_path = path + \"Specular\"\n",
    "    save_path = path + GBufferTypes.NORMAL_SPECULAR.value\n",
    "    idx = \".\" + str(frame_no).zfill(4) + \".exr\"\n",
    "\n",
    "    normal = ImageUtils.load_exr_image_opencv(normal_path + idx)[:, :, :3]\n",
    "    specular = ImageUtils.load_exr_image_opencv(specular_path + idx)[:, :, :1]\n",
    "\n",
    "    packed = np.concatenate((normal, specular), axis=2)\n",
    "\n",
    "    ImageUtils.save_exr_image_opencv(packed, save_path + idx)\n",
    "\n",
    "    # Delete the normal and specular images\n",
    "    # os.remove(normal_path + idx)\n",
    "    # os.remove(specular_path + idx)\n",
    "\n",
    "def pack_base_color_depth(path: str, frame_no: int):\n",
    "    base_color_path = path + \"BaseColor\"\n",
    "    depth_path = path + \"SceneDepth\"\n",
    "    save_path = path + GBufferTypes.BASE_COLOR_DEPTH.value\n",
    "    idx = \".\" + str(frame_no).zfill(4) + \".exr\"\n",
    "\n",
    "    base_color = ImageUtils.load_exr_image_opencv(base_color_path + idx)[:, :, :3]\n",
    "    depth = ImageUtils.load_exr_image_opencv(depth_path + idx)[:, :, :1]\n",
    "\n",
    "    packed = np.concatenate((base_color, depth), axis=2)\n",
    "\n",
    "    ImageUtils.save_exr_image_opencv(packed, save_path + idx)\n",
    "\n",
    "    # Delete the base color and depth images\n",
    "    # os.remove(base_color_path + idx)\n",
    "    # os.remove(depth_path + idx)\n",
    "\n",
    "def pack_pretonemapped_metallic(path: str, frame_no: int):\n",
    "    pretonemapped_path = path + \"PreTonemapHDRColor\"\n",
    "    metallic_path = path + \"Metallic\"\n",
    "    save_path = path + GBufferTypes.PRETONEMAP_METALLIC.value\n",
    "    idx = \".\" + str(frame_no).zfill(4) + \".exr\"\n",
    "\n",
    "    pretonemapped = ImageUtils.load_exr_image_opencv(pretonemapped_path + idx)[:, :, :3]\n",
    "    metallic = ImageUtils.load_exr_image_opencv(metallic_path + idx)[:, :, :1]\n",
    "\n",
    "    packed = np.concatenate((pretonemapped, metallic), axis=2)\n",
    "\n",
    "    ImageUtils.save_exr_image_opencv(packed, save_path + idx)\n",
    "\n",
    "    # Delete the pretonemapped and metallic images\n",
    "    # os.remove(pretonemapped_path + idx)\n",
    "    # os.remove(metallic_path + idx)\n",
    "\n",
    "def pack_mv_roughness_nov(path: str, frame_no: int):\n",
    "    mv_path = path + \"MotionVector\"\n",
    "    roughness_path = path + \"Roughness\"\n",
    "    nov_path = path + \"NoV\"\n",
    "    save_path = path + GBufferTypes.MV_ROUGHNESS_NoV.value\n",
    "    idx = \".\" + str(frame_no).zfill(4) + \".exr\"\n",
    "\n",
    "    mv = ImageUtils.load_exr_image_opencv(mv_path + idx)[:, :, :2]\n",
    "    roughness = ImageUtils.load_exr_image_opencv(roughness_path + idx)[:, :, :1]\n",
    "    nov = ImageUtils.load_exr_image_opencv(nov_path + idx)[:, :, :1]\n",
    "\n",
    "    packed = np.concatenate((mv, roughness, nov), axis=2)\n",
    "\n",
    "    ImageUtils.save_exr_image_opencv(packed, save_path + idx)\n",
    "\n",
    "    # Delete the mv, roughness and nov images\n",
    "    # os.remove(mv_path + idx)\n",
    "    # os.remove(roughness_path + idx)\n",
    "    # os.remove(nov_path + idx)"
   ]
  },
  {
   "cell_type": "code",
   "execution_count": 10,
   "metadata": {},
   "outputs": [],
   "source": [
    "def downsample(image: np.ndarray, target_size: Tuple[int, int]) -> np.ndarray:\n",
    "    return cv2.resize(image, target_size, interpolation=cv2.INTER_NEAREST_EXACT)\n",
    "\n",
    "def downsample_and_save_single(source_path: str, target_path: str, img_name: str, target_sizes: List[Tuple[str, Tuple[int, int]]]):\n",
    "    image = ImageUtils.load_exr_image_opencv(source_path + img_name)\n",
    "    for target_size in target_sizes:\n",
    "        downsampled = downsample(image, target_size[1])\n",
    "        ImageUtils.save_exr_image_opencv(downsampled, target_path + target_size[0] + \"\\\\\" + img_name)\n",
    "\n",
    "def downsample_and_save_frame(source_path: str, target_path: str, target_sizes: List[Tuple[str, Tuple[int, int]]], frame_no: int):\n",
    "    idx = \".\" + str(frame_no).zfill(4) + \".exr\"\n",
    "    \n",
    "    for gb_type in GBufferTypes:\n",
    "        downsample_and_save_single(source_path, target_path, gb_type.value + idx, target_sizes)"
   ]
  },
  {
   "cell_type": "code",
   "execution_count": 11,
   "metadata": {},
   "outputs": [],
   "source": [
    "import concurrent.futures\n",
    "import tqdm\n",
    "\n",
    "def pack(path: str, total_frames: int):\n",
    "    def pack_frame(i):\n",
    "        pack_normal_specular(path, i)\n",
    "        pack_base_color_depth(path, i)\n",
    "        pack_pretonemapped_metallic(path, i)\n",
    "        pack_mv_roughness_nov(path, i)\n",
    "\n",
    "    with concurrent.futures.ThreadPoolExecutor() as executor:\n",
    "        list(tqdm.tqdm(executor.map(pack_frame, range(total_frames)), total=total_frames))\n",
    "\n",
    "def downsample_and_save(source_path: str, target_path: str, target_sizes: List[Tuple[str, Tuple[int, int]]], total_frames: int):\n",
    "    # Create the target directory if it does not exist\n",
    "    for target_size in target_sizes:\n",
    "        if not os.path.exists(target_path + target_size[0]):\n",
    "            os.makedirs(target_path + target_size[0])\n",
    "    \n",
    "    def downsample_frame(i):\n",
    "        downsample_and_save_frame(source_path, target_path, target_sizes, i)\n",
    "\n",
    "    with concurrent.futures.ThreadPoolExecutor() as executor:\n",
    "        list(tqdm.tqdm(executor.map(downsample_frame, range(total_frames)), total=total_frames))"
   ]
  },
  {
   "cell_type": "code",
   "execution_count": 7,
   "metadata": {},
   "outputs": [],
   "source": [
    "path = \"D:\\\\Dev\\\\MinorProjDataset\\\\V6\\\\test\\\\\"\n",
    "destination = \"D:\\\\Dev\\\\MinorProjDataset\\\\V6\\\\test_downsampled\\\\\""
   ]
  },
  {
   "cell_type": "code",
   "execution_count": 8,
   "metadata": {},
   "outputs": [
    {
     "name": "stderr",
     "output_type": "stream",
     "text": [
      "  0%|          | 0/54 [00:00<?, ?it/s]"
     ]
    },
    {
     "name": "stderr",
     "output_type": "stream",
     "text": [
      "100%|██████████| 54/54 [11:59<00:00, 13.33s/it]  \n"
     ]
    }
   ],
   "source": [
    "pack(path, 54)"
   ]
  },
  {
   "cell_type": "code",
   "execution_count": 12,
   "metadata": {},
   "outputs": [
    {
     "name": "stderr",
     "output_type": "stream",
     "text": [
      "100%|██████████| 54/54 [03:04<00:00,  3.42s/it]\n"
     ]
    }
   ],
   "source": [
    "downsample_and_save(\n",
    "    path,\n",
    "    destination,\n",
    "    [\n",
    "        (\"1080P\", (1920, 1080)),\n",
    "        (\"540P\", (960, 540)),\n",
    "        (\"360P\", (640, 360)),\n",
    "        (\"270P\", (480, 270))\n",
    "    ],\n",
    "    54\n",
    ")"
   ]
  }
 ],
 "metadata": {
  "kernelspec": {
   "display_name": ".venv",
   "language": "python",
   "name": "python3"
  },
  "language_info": {
   "codemirror_mode": {
    "name": "ipython",
    "version": 3
   },
   "file_extension": ".py",
   "mimetype": "text/x-python",
   "name": "python",
   "nbconvert_exporter": "python",
   "pygments_lexer": "ipython3",
   "version": "3.12.4"
  }
 },
 "nbformat": 4,
 "nbformat_minor": 2
}

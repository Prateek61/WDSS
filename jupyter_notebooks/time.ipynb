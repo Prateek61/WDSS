{
 "cells": [
  {
   "cell_type": "code",
   "execution_count": 21,
   "metadata": {},
   "outputs": [
    {
     "name": "stdout",
     "output_type": "stream",
     "text": [
      "d:\\minorProject\\WDSS\n",
      "d:\\minorProject\\WDSS\n"
     ]
    }
   ],
   "source": [
    "import os\n",
    "# Display current working directory\n",
    "print(os.getcwd())\n",
    "# To make sure opencv imports .exr files\n",
    "os.environ[\"OPENCV_IO_ENABLE_OPENEXR\"] = \"1\"\n",
    "# If the current directory is not WDSS, then set it to one level up\n",
    "if os.getcwd()[-4:] != 'WDSS':\n",
    "    os.chdir('..')\n",
    "print(os.getcwd())"
   ]
  },
  {
   "cell_type": "code",
   "execution_count": 22,
   "metadata": {},
   "outputs": [],
   "source": [
    "import torch\n",
    "import torch.nn as nn\n",
    "\n",
    "from network.modules import *\n",
    "\n",
    "from utils import *\n",
    "\n",
    "from datetime import datetime\n",
    "\n",
    "from typing import List, Dict, Any\n",
    "\n",
    "from config import device, Settings"
   ]
  },
  {
   "cell_type": "code",
   "execution_count": 23,
   "metadata": {},
   "outputs": [],
   "source": [
    "settings = Settings(\"config/config.json\", \"WDSSV5\")"
   ]
  },
  {
   "cell_type": "code",
   "execution_count": 24,
   "metadata": {},
   "outputs": [],
   "source": [
    "from network.dataset import *\n",
    "\n",
    "train_dataset, val_dataset, test_dataset = WDSSDatasetCompressed.get_datasets(settings)"
   ]
  },
  {
   "cell_type": "code",
   "execution_count": 25,
   "metadata": {},
   "outputs": [],
   "source": [
    "sum_lr_wavelet: bool = settings.model_config[\"sum_lr_wavelet\"]\n",
    "has_feature_fusion: bool = settings.model_config[\"has_feature_fusion\"]\n",
    "has_fminr: bool = settings.model_config[\"has_fminr\"]\n",
    "lr_feat_extractor_config: Dict[str, Any] = settings.model_config[\"lr_feat_extractor\"]\n",
    "temporal_feat_extractor_config: Dict[str, Any] = settings.model_config[\"temporal_feat_extractor\"]\n",
    "hr_gb_feat_extractor_config: Dict[str, Any] = settings.model_config[\"hr_gb_feat_extractor\"]\n",
    "feature_fusion_config: Dict[str, Any] = settings.model_config[\"feature_fusion\"]\n",
    "fminr_config: Dict[str, Any] = settings.model_config[\"fminr\"]"
   ]
  },
  {
   "cell_type": "code",
   "execution_count": 26,
   "metadata": {},
   "outputs": [],
   "source": [
    "lr_frame_feat_extractor = BaseLRFeatExtractor.from_config(lr_feat_extractor_config).to(device)\n",
    "temporal_feat_extractor = BaseTemporalFeatExtractor.from_config(temporal_feat_extractor_config).to(device)\n",
    "hr_gb_feat_extractor = BaseGBFeatExtractor.from_config(hr_gb_feat_extractor_config).to(device)\n",
    "\n",
    "has_fminr = has_fminr\n",
    "has_feature_fusion = has_feature_fusion\n",
    "sum_lr_wavelet = sum_lr_wavelet\n",
    "\n",
    "if has_fminr:\n",
    "    fminr = get_fminr(fminr_config).to(device)\n",
    "if has_feature_fusion:\n",
    "    fusion = BaseFeatureFusion.from_config(feature_fusion_config).to(device)\n",
    "\n",
    "final_conv = nn.Sequential(\n",
    "    nn.Conv2d(12, 12, kernel_size=3, padding=1, stride=1)\n",
    ").to(device)"
   ]
  },
  {
   "cell_type": "code",
   "execution_count": 27,
   "metadata": {},
   "outputs": [
    {
     "name": "stdout",
     "output_type": "stream",
     "text": [
      "torch.Size([1, 3, 360, 640])\n",
      "torch.Size([1, 12, 720, 1280])\n",
      "torch.Size([1, 8, 720, 1280])\n"
     ]
    }
   ],
   "source": [
    "image_no = 0\n",
    "raw_frame  = test_dataset.get_inference_frame(image_no)\n",
    "\n",
    "lr_frame = raw_frame[FrameGroup.LR.value].unsqueeze(0).to(device)\n",
    "print(lr_frame.shape)\n",
    "\n",
    "hr_gbuffer = raw_frame[FrameGroup.GB.value].unsqueeze(0).to(device)\n",
    "print(hr_gbuffer.shape)\n",
    "\n",
    "temporal = raw_frame[FrameGroup.TEMPORAL.value].unsqueeze(0).to(device)\n",
    "print(temporal.shape)\n",
    "\n",
    "upscale_factor = 2"
   ]
  },
  {
   "cell_type": "code",
   "execution_count": 28,
   "metadata": {},
   "outputs": [],
   "source": [
    "# Pixel unshuffle\n",
    "lr_frame_ps = F.pixel_unshuffle(lr_frame, 2)\n"
   ]
  },
  {
   "cell_type": "code",
   "execution_count": 29,
   "metadata": {},
   "outputs": [],
   "source": [
    "hr_gbuffer_ps = F.pixel_unshuffle(hr_gbuffer, 2)"
   ]
  },
  {
   "cell_type": "code",
   "execution_count": 30,
   "metadata": {},
   "outputs": [],
   "source": [
    "temporal_ps = F.pixel_unshuffle(temporal, 2)\n"
   ]
  },
  {
   "cell_type": "code",
   "execution_count": 31,
   "metadata": {},
   "outputs": [],
   "source": [
    "# Extract features\n",
    "lr_frame_feat = lr_frame_feat_extractor(lr_frame_ps)"
   ]
  },
  {
   "cell_type": "code",
   "execution_count": 32,
   "metadata": {},
   "outputs": [
    {
     "name": "stdout",
     "output_type": "stream",
     "text": [
      "TemporalFeatExtractor(\n",
      "  (net): Sequential(\n",
      "    (0): LightWeightGatedConv2D(\n",
      "      (feature): Conv2d(32, 32, kernel_size=(3, 3), stride=(1, 1), padding=(1, 1))\n",
      "      (gate): Sequential(\n",
      "        (0): Conv2d(32, 1, kernel_size=(3, 3), stride=(1, 1), padding=(1, 1))\n",
      "        (1): Sigmoid()\n",
      "      )\n",
      "    )\n",
      "    (1): LightWeightGatedConv2D(\n",
      "      (feature): Conv2d(32, 32, kernel_size=(3, 3), stride=(1, 1), padding=(1, 1))\n",
      "      (gate): Sequential(\n",
      "        (0): Conv2d(32, 1, kernel_size=(3, 3), stride=(1, 1), padding=(1, 1))\n",
      "        (1): Sigmoid()\n",
      "      )\n",
      "    )\n",
      "    (2): LightWeightGatedConv2D(\n",
      "      (feature): Conv2d(32, 16, kernel_size=(3, 3), stride=(1, 1), padding=(1, 1))\n",
      "      (gate): Sequential(\n",
      "        (0): Conv2d(32, 1, kernel_size=(3, 3), stride=(1, 1), padding=(1, 1))\n",
      "        (1): Sigmoid()\n",
      "      )\n",
      "    )\n",
      "  )\n",
      ")\n"
     ]
    }
   ],
   "source": [
    "temporal_feat = temporal_feat_extractor(temporal_ps)\n",
    "print(temporal_feat_extractor)"
   ]
  },
  {
   "cell_type": "code",
   "execution_count": 33,
   "metadata": {},
   "outputs": [
    {
     "name": "stdout",
     "output_type": "stream",
     "text": [
      "GBFeatureExtractor(\n",
      "  (net): Sequential(\n",
      "    (0): Conv2d(48, 64, kernel_size=(3, 3), stride=(1, 1), padding=(1, 1))\n",
      "    (1): ReLU()\n",
      "    (2): ResBlock(\n",
      "      (expand_conv): Conv2d(64, 128, kernel_size=(1, 1), stride=(1, 1))\n",
      "      (fea_conv): Conv2d(128, 128, kernel_size=(3, 3), stride=(1, 1), padding=(1, 1))\n",
      "      (reduce_conv): Conv2d(128, 64, kernel_size=(1, 1), stride=(1, 1))\n",
      "    )\n",
      "    (3): ReLU()\n",
      "    (4): ResBlock(\n",
      "      (expand_conv): Conv2d(64, 128, kernel_size=(1, 1), stride=(1, 1))\n",
      "      (fea_conv): Conv2d(128, 128, kernel_size=(3, 3), stride=(1, 1), padding=(1, 1))\n",
      "      (reduce_conv): Conv2d(128, 64, kernel_size=(1, 1), stride=(1, 1))\n",
      "    )\n",
      "    (5): ReLU()\n",
      "    (6): ResBlock(\n",
      "      (expand_conv): Conv2d(64, 128, kernel_size=(1, 1), stride=(1, 1))\n",
      "      (fea_conv): Conv2d(128, 128, kernel_size=(3, 3), stride=(1, 1), padding=(1, 1))\n",
      "      (reduce_conv): Conv2d(128, 64, kernel_size=(1, 1), stride=(1, 1))\n",
      "    )\n",
      "    (7): ReLU()\n",
      "    (8): ResBlock(\n",
      "      (expand_conv): Conv2d(64, 128, kernel_size=(1, 1), stride=(1, 1))\n",
      "      (fea_conv): Conv2d(128, 128, kernel_size=(3, 3), stride=(1, 1), padding=(1, 1))\n",
      "      (reduce_conv): Conv2d(128, 64, kernel_size=(1, 1), stride=(1, 1))\n",
      "    )\n",
      "    (9): ReLU()\n",
      "  )\n",
      ")\n"
     ]
    }
   ],
   "source": [
    "\n",
    "hr_gb_feat = hr_gb_feat_extractor(hr_gbuffer_ps)\n",
    "print(hr_gb_feat_extractor)"
   ]
  },
  {
   "cell_type": "code",
   "execution_count": 34,
   "metadata": {},
   "outputs": [],
   "source": [
    "if has_fminr and has_feature_fusion:    \n",
    "    lr_ff, lr_inr = torch.split(lr_frame_feat, lr_frame_feat.shape[1]//2, dim=1)\n",
    "    gb_ff, gb_inr = torch.split(hr_gb_feat, hr_gb_feat.shape[1]//2, dim=1)\n",
    "elif has_feature_fusion:\n",
    "    lr_ff = lr_frame_feat\n",
    "    gb_ff = hr_gb_feat\n",
    "else:\n",
    "    lr_inr = lr_frame_feat\n",
    "    gb_inr = hr_gb_feat\n"
   ]
  },
  {
   "cell_type": "code",
   "execution_count": 35,
   "metadata": {},
   "outputs": [],
   "source": [
    "wavelet_out: torch.Tensor | None = None\n"
   ]
  },
  {
   "cell_type": "code",
   "execution_count": 36,
   "metadata": {},
   "outputs": [],
   "source": [
    "if has_fminr:\n",
    "    wavelet_out = fminr.forward(lr_inr, gb_inr, upscale_factor)\n",
    "\n"
   ]
  },
  {
   "cell_type": "code",
   "execution_count": 37,
   "metadata": {},
   "outputs": [],
   "source": [
    "if has_feature_fusion:\n",
    "    lr_ff_upsampled = ImageUtils.upsample(lr_ff, upscale_factor)\n",
    "    ff_out = fusion(torch.cat([lr_ff_upsampled, gb_ff, temporal_feat], dim=1))\n",
    "    wavelet_out = wavelet_out + ff_out if has_fminr else ff_out\n",
    "\n"
   ]
  },
  {
   "cell_type": "code",
   "execution_count": 38,
   "metadata": {},
   "outputs": [],
   "source": [
    "if sum_lr_wavelet:\n",
    "    lr_wavelet = WaveletProcessor.batch_wt(lr_frame)\n",
    "    lr_wavelet_ups = ImageUtils.upsample(lr_wavelet, upscale_factor)\n",
    "    wavelet_out = wavelet_out + lr_wavelet_ups\n"
   ]
  },
  {
   "cell_type": "code",
   "execution_count": 39,
   "metadata": {},
   "outputs": [],
   "source": [
    "\n",
    "wavelet_out = final_conv(wavelet_out)\n",
    "\n"
   ]
  },
  {
   "cell_type": "code",
   "execution_count": 40,
   "metadata": {},
   "outputs": [],
   "source": [
    "image = WaveletProcessor.batch_iwt(wavelet_out)"
   ]
  },
  {
   "cell_type": "code",
   "execution_count": null,
   "metadata": {},
   "outputs": [],
   "source": []
  }
 ],
 "metadata": {
  "kernelspec": {
   "display_name": "wdss",
   "language": "python",
   "name": "python3"
  },
  "language_info": {
   "codemirror_mode": {
    "name": "ipython",
    "version": 3
   },
   "file_extension": ".py",
   "mimetype": "text/x-python",
   "name": "python",
   "nbconvert_exporter": "python",
   "pygments_lexer": "ipython3",
   "version": "3.12.8"
  }
 },
 "nbformat": 4,
 "nbformat_minor": 2
}

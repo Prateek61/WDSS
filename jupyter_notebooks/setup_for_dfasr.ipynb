{
 "cells": [
  {
   "cell_type": "code",
   "execution_count": 1,
   "metadata": {},
   "outputs": [
    {
     "name": "stdout",
     "output_type": "stream",
     "text": [
      "c:\\Dev\\MinorProject\\WDSS\\jupyter_notebooks\n",
      "c:\\Dev\\MinorProject\\WDSS\n",
      "Job: Navin_relu_mse, Model: WDSSV5, Device: cuda\n",
      "Model path: out\\Navin_relu_mse-WDSSV5\\model\n",
      "Log path: out\\Navin_relu_mse-WDSSV5\\logs\n",
      "Setting up [LPIPS] perceptual loss: trunk [vgg], v[0.1], spatial [off]\n"
     ]
    },
    {
     "name": "stderr",
     "output_type": "stream",
     "text": [
      "c:\\Dev\\MinorProject\\WDSS\\.venv\\Lib\\site-packages\\torchvision\\models\\_utils.py:208: UserWarning: The parameter 'pretrained' is deprecated since 0.13 and may be removed in the future, please use 'weights' instead.\n",
      "  warnings.warn(\n",
      "c:\\Dev\\MinorProject\\WDSS\\.venv\\Lib\\site-packages\\torchvision\\models\\_utils.py:223: UserWarning: Arguments other than a weight enum or `None` for 'weights' are deprecated since 0.13 and may be removed in the future. The current behavior is equivalent to passing `weights=VGG16_Weights.IMAGENET1K_V1`. You can also use `weights=VGG16_Weights.DEFAULT` to get the most up-to-date weights.\n",
      "  warnings.warn(msg)\n"
     ]
    },
    {
     "name": "stdout",
     "output_type": "stream",
     "text": [
      "Loading model from: c:\\Dev\\MinorProject\\WDSS\\.venv\\Lib\\site-packages\\lpips\\weights\\v0.1\\vgg.pth\n"
     ]
    }
   ],
   "source": [
    "from nortebook_init import *"
   ]
  },
  {
   "cell_type": "code",
   "execution_count": 2,
   "metadata": {},
   "outputs": [],
   "source": [
    "from tqdm import tqdm"
   ]
  },
  {
   "cell_type": "code",
   "execution_count": 3,
   "metadata": {},
   "outputs": [],
   "source": [
    "def pack_hr(base_path: str, total_frames: int, out_path: str):\n",
    "    os.makedirs(out_path, exist_ok=True)\n",
    "    for i in tqdm(range(total_frames)):\n",
    "        if i < 2:\n",
    "            continue\n",
    "        idx = \".\" + str(i).zfill(4) + \".exr\"\n",
    "        # Read\n",
    "        base_color = ImageUtils.load_exr_image_opencv(f\"{base_path}\\\\BaseColor{idx}\")\n",
    "        diffuse = ImageUtils.load_exr_image_opencv(f\"{base_path}\\\\DiffuseColor{idx}\")\n",
    "        metallic_roughness_specular = ImageUtils.load_exr_image_opencv(f\"{base_path}\\\\MetallicRoughnessSpecular{idx}\")\n",
    "        motion_vector = ImageUtils.load_exr_image_opencv(f\"{base_path}\\\\MotionVector{idx}\")\n",
    "        NoVDepth = ImageUtils.load_exr_image_opencv(f\"{base_path}\\\\NoVDepth{idx}\")\n",
    "        normal = ImageUtils.load_exr_image_opencv(f\"{base_path}\\\\WorldNormal{idx}\")\n",
    "        # Pack\n",
    "        mv_metallic_roughness = np.concatenate([motion_vector[:, :, 0:2], metallic_roughness_specular[:, :, 0:2]], axis=2)\n",
    "        nov = NoVDepth[:, :, 0:1]\n",
    "        specular = metallic_roughness_specular[:, :, 2:3]\n",
    "        normal_depth = np.concatenate([normal, NoVDepth[:, :, 1:2]], axis=2)\n",
    "\n",
    "        # Save\n",
    "        ImageUtils.save_exr_image_opencv(diffuse, f\"{out_path}\\\\Asian_Village_DemoAlbedo{idx}\")\n",
    "        ImageUtils.save_exr_image_opencv(base_color, f\"{out_path}\\\\Asian_Village_DemoBaseColor{idx}\")\n",
    "        ImageUtils.save_exr_image_opencv(mv_metallic_roughness, f\"{out_path}\\\\Asian_Village_DemoMotionVectorAndMetallicAndRoughness{idx}\")\n",
    "        ImageUtils.save_exr_image_opencv(nov, f\"{out_path}\\\\Asian_Village_DemoNoV{idx}\")\n",
    "        ImageUtils.save_exr_image_opencv(specular, f\"{out_path}\\\\Asian_Village_DemoSpecular{idx}\")\n",
    "        ImageUtils.save_exr_image_opencv(normal_depth, f\"{out_path}\\\\Asian_Village_DemoWorldNormalAndSceneDepth{idx}\")"
   ]
  },
  {
   "cell_type": "code",
   "execution_count": 4,
   "metadata": {},
   "outputs": [],
   "source": [
    "def pack_lr(base_path: str, total_frames: int, out_path: str):\n",
    "    os.makedirs(out_path, exist_ok=True)\n",
    "    print(out_path)\n",
    "    # return\n",
    "    for i in tqdm(range(total_frames)):\n",
    "        if i < 2:\n",
    "            continue\n",
    "        idx = \".\" + str(i).zfill(4) + \".exr\"\n",
    "        # Read\n",
    "        base_color = ImageUtils.load_exr_image_opencv(f\"{base_path}\\\\BaseColor{idx}\")\n",
    "        diffuse = ImageUtils.load_exr_image_opencv(f\"{base_path}\\\\DiffuseColor{idx}\")\n",
    "        metallic_roughness_specular = ImageUtils.load_exr_image_opencv(f\"{base_path}\\\\MetallicRoughnessSpecular{idx}\")\n",
    "        motion_vector = ImageUtils.load_exr_image_opencv(f\"{base_path}\\\\MotionVector{idx}\")\n",
    "        NoVDepth = ImageUtils.load_exr_image_opencv(f\"{base_path}\\\\NoVDepth{idx}\")\n",
    "        normal = ImageUtils.load_exr_image_opencv(f\"{base_path}\\\\WorldNormal{idx}\")\n",
    "        pre_tonemapped = ImageUtils.load_exr_image_opencv(f\"{base_path}\\\\PreTonemapHDRColor{idx}\")\n",
    "        # Pack\n",
    "        mv_metallic_roughness = np.concatenate([motion_vector[:, :, 0:2], metallic_roughness_specular[:, :, 0:2]], axis=2)\n",
    "        nov = NoVDepth[:, :, 0:1]\n",
    "        specular = metallic_roughness_specular[:, :, 2:3]\n",
    "        normal_depth = np.concatenate([normal, NoVDepth[:, :, 1:2]], axis=2)\n",
    "\n",
    "        # Save\n",
    "        ImageUtils.save_exr_image_opencv(diffuse, f\"{out_path}\\\\Asian_Village_DemoAlbedo{idx}\")\n",
    "        ImageUtils.save_exr_image_opencv(base_color, f\"{out_path}\\\\Asian_Village_DemoBaseColor{idx}\")\n",
    "        ImageUtils.save_exr_image_opencv(mv_metallic_roughness, f\"{out_path}\\\\Asian_Village_DemoMotionVectorAndMetallicAndRoughness{idx}\")\n",
    "        ImageUtils.save_exr_image_opencv(nov, f\"{out_path}\\\\Asian_Village_DemoNoV{idx}\")\n",
    "        ImageUtils.save_exr_image_opencv(specular, f\"{out_path}\\\\Asian_Village_DemoSpecular{idx}\")\n",
    "        ImageUtils.save_exr_image_opencv(normal_depth, f\"{out_path}\\\\Asian_Village_DemoWorldNormalAndSceneDepth{idx}\")\n",
    "        ImageUtils.save_exr_image_opencv(pre_tonemapped, f\"{out_path}\\\\Asian_Village_DemoPreTonemapHDRColor{idx}\")"
   ]
  },
  {
   "cell_type": "code",
   "execution_count": 5,
   "metadata": {},
   "outputs": [],
   "source": [
    "def pack_final(base_path: str, total_frames: int, out_path: str):\n",
    "    os.makedirs(out_path, exist_ok=True)\n",
    "    for i in tqdm(range(total_frames)):\n",
    "        if i < 2:\n",
    "            continue\n",
    "        idx = \".\" + str(i).zfill(4) + \".exr\"\n",
    "        pre_tonemapped = ImageUtils.load_exr_image_opencv(f\"{base_path}\\\\PreTonemapHDRColor{idx}\")\n",
    "        ImageUtils.save_exr_image_opencv(pre_tonemapped, f\"{out_path}\\\\Asian_Village_DemoPreTonemapHDRColor{idx}\")"
   ]
  },
  {
   "cell_type": "code",
   "execution_count": 6,
   "metadata": {},
   "outputs": [],
   "source": [
    "base_path = \"D:\\\\Dev\\\\MinorProjDataset\\\\V5\"\n",
    "total_frames = 126\n",
    "data_path = base_path + \"\\\\Industry_3\"\n",
    "out_path = base_path + \"\\\\Industrial_3_packed\"\n",
    "os.makedirs(out_path, exist_ok=True)"
   ]
  },
  {
   "cell_type": "code",
   "execution_count": 7,
   "metadata": {},
   "outputs": [
    {
     "name": "stderr",
     "output_type": "stream",
     "text": [
      "100%|██████████| 126/126 [08:46<00:00,  4.18s/it]\n"
     ]
    }
   ],
   "source": [
    "pack_hr(data_path + \"\\\\HighResGbuffer\", total_frames, out_path + \"\\\\GBuffer-1080P\")"
   ]
  },
  {
   "cell_type": "code",
   "execution_count": 12,
   "metadata": {},
   "outputs": [
    {
     "name": "stdout",
     "output_type": "stream",
     "text": [
      "D:\\Dev\\MinorProjDataset\\V5\\Industrial_3_packed\\Nojitter-540P\n"
     ]
    },
    {
     "name": "stderr",
     "output_type": "stream",
     "text": [
      "100%|██████████| 126/126 [04:02<00:00,  1.93s/it]\n"
     ]
    }
   ],
   "source": [
    "pack_lr(data_path + \"\\\\LowResGbuffer\", total_frames, out_path + \"\\\\Nojitter-540P\")"
   ]
  },
  {
   "cell_type": "code",
   "execution_count": 7,
   "metadata": {},
   "outputs": [
    {
     "name": "stderr",
     "output_type": "stream",
     "text": [
      "  0%|          | 0/126 [00:00<?, ?it/s]"
     ]
    },
    {
     "name": "stderr",
     "output_type": "stream",
     "text": [
      "100%|██████████| 126/126 [03:05<00:00,  1.48s/it]\n"
     ]
    }
   ],
   "source": [
    "pack_final(data_path + \"\\\\HighResGbuffer\", total_frames, out_path + \"\\\\Nojitter-1080P\")"
   ]
  }
 ],
 "metadata": {
  "kernelspec": {
   "display_name": ".venv",
   "language": "python",
   "name": "python3"
  },
  "language_info": {
   "codemirror_mode": {
    "name": "ipython",
    "version": 3
   },
   "file_extension": ".py",
   "mimetype": "text/x-python",
   "name": "python",
   "nbconvert_exporter": "python",
   "pygments_lexer": "ipython3",
   "version": "3.12.4"
  }
 },
 "nbformat": 4,
 "nbformat_minor": 2
}

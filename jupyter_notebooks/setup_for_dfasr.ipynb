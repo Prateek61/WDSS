{
 "cells": [
  {
   "cell_type": "code",
   "execution_count": 16,
   "metadata": {},
   "outputs": [],
   "source": [
    "from nortebook_init import *"
   ]
  },
  {
   "cell_type": "code",
   "execution_count": 17,
   "metadata": {},
   "outputs": [],
   "source": [
    "from tqdm import tqdm"
   ]
  },
  {
   "cell_type": "code",
   "execution_count": 18,
   "metadata": {},
   "outputs": [],
   "source": [
    "def pack_hr(base_path: str, total_frames: int, out_path: str):\n",
    "    os.makedirs(out_path, exist_ok=True)\n",
    "    for i in tqdm(range(total_frames)):\n",
    "        if i < 2:\n",
    "            continue\n",
    "        idx = \".\" + str(i).zfill(4) + \".exr\"\n",
    "        # Read\n",
    "        base_color = ImageUtils.load_exr_image_opencv(f\"{base_path}\\\\BaseColor{idx}\")\n",
    "        # diffuse = ImageUtils.load_exr_image_opencv(f\"{base_path}\\\\DiffuseColor{idx}\")\n",
    "        metallic_roughness_specular = ImageUtils.load_exr_image_opencv(f\"{base_path}\\\\MetallicRoughnessSpecular{idx}\")\n",
    "        motion_vector = ImageUtils.load_exr_image_opencv(f\"{base_path}\\\\MotionVector{idx}\")\n",
    "        NoVDepth = ImageUtils.load_exr_image_opencv(f\"{base_path}\\\\NoVDepth{idx}\")\n",
    "        normal = ImageUtils.load_exr_image_opencv(f\"{base_path}\\\\WorldNormal{idx}\")\n",
    "        # Pack\n",
    "        mv_metallic_roughness = np.concatenate([motion_vector[:, :, 0:2], metallic_roughness_specular[:, :, 0:2]], axis=2)\n",
    "        nov = NoVDepth[:, :, 0:1]\n",
    "        specular = metallic_roughness_specular[:, :, 2:3]\n",
    "        normal_depth = np.concatenate([normal, NoVDepth[:, :, 1:2]], axis=2)\n",
    "\n",
    "        albedo = base_color + (1 - metallic_roughness_specular[:, :, 0:1]) * 0.08 * metallic_roughness_specular[:, :, 2:3]\n",
    "\n",
    "        # Save\n",
    "        ImageUtils.save_exr_image_opencv(albedo, f\"{out_path}\\\\Asian_Village_DemoAlbedo{idx}\")\n",
    "        ImageUtils.save_exr_image_opencv(base_color, f\"{out_path}\\\\Asian_Village_DemoBaseColor{idx}\")\n",
    "        ImageUtils.save_exr_image_opencv(mv_metallic_roughness, f\"{out_path}\\\\Asian_Village_DemoMotionVectorAndMetallicAndRoughness{idx}\")\n",
    "        ImageUtils.save_exr_image_opencv(nov, f\"{out_path}\\\\Asian_Village_DemoNoV{idx}\")\n",
    "        ImageUtils.save_exr_image_opencv(specular, f\"{out_path}\\\\Asian_Village_DemoSpecular{idx}\")\n",
    "        ImageUtils.save_exr_image_opencv(normal_depth, f\"{out_path}\\\\Asian_Village_DemoWorldNormalAndSceneDepth{idx}\")"
   ]
  },
  {
   "cell_type": "code",
   "execution_count": 19,
   "metadata": {},
   "outputs": [],
   "source": [
    "def pack_lr(base_path: str, total_frames: int, out_path: str):\n",
    "    os.makedirs(out_path, exist_ok=True)\n",
    "    print(out_path)\n",
    "    # return\n",
    "    for i in tqdm(range(total_frames)):\n",
    "        if i < 2:\n",
    "            continue\n",
    "        idx = \".\" + str(i).zfill(4) + \".exr\"\n",
    "        # Read\n",
    "        base_color = ImageUtils.load_exr_image_opencv(f\"{base_path}\\\\BaseColor{idx}\")\n",
    "        # diffuse = ImageUtils.load_exr_image_opencv(f\"{base_path}\\\\DiffuseColor{idx}\")\n",
    "        metallic_roughness_specular = ImageUtils.load_exr_image_opencv(f\"{base_path}\\\\MetallicRoughnessSpecular{idx}\")\n",
    "        motion_vector = ImageUtils.load_exr_image_opencv(f\"{base_path}\\\\MotionVector{idx}\")\n",
    "        NoVDepth = ImageUtils.load_exr_image_opencv(f\"{base_path}\\\\NoVDepth{idx}\")\n",
    "        normal = ImageUtils.load_exr_image_opencv(f\"{base_path}\\\\WorldNormal{idx}\")\n",
    "        pre_tonemapped = ImageUtils.load_exr_image_opencv(f\"{base_path}\\\\PreTonemapHDRColor{idx}\")\n",
    "        # Pack\n",
    "        mv_metallic_roughness = np.concatenate([motion_vector[:, :, 0:2], metallic_roughness_specular[:, :, 0:2]], axis=2)\n",
    "        nov = NoVDepth[:, :, 0:1]\n",
    "        specular = metallic_roughness_specular[:, :, 2:3]\n",
    "        normal_depth = np.concatenate([normal, NoVDepth[:, :, 1:2]], axis=2)\n",
    "\n",
    "        albedo = base_color + (1 - metallic_roughness_specular[:, :, 0:1]) * 0.08 * metallic_roughness_specular[:, :, 2:3]\n",
    "\n",
    "        # Save\n",
    "        ImageUtils.save_exr_image_opencv(albedo, f\"{out_path}\\\\Asian_Village_DemoAlbedo{idx}\")\n",
    "        ImageUtils.save_exr_image_opencv(base_color, f\"{out_path}\\\\Asian_Village_DemoBaseColor{idx}\")\n",
    "        ImageUtils.save_exr_image_opencv(mv_metallic_roughness, f\"{out_path}\\\\Asian_Village_DemoMotionVectorAndMetallicAndRoughness{idx}\")\n",
    "        ImageUtils.save_exr_image_opencv(nov, f\"{out_path}\\\\Asian_Village_DemoNoV{idx}\")\n",
    "        ImageUtils.save_exr_image_opencv(specular, f\"{out_path}\\\\Asian_Village_DemoSpecular{idx}\")\n",
    "        ImageUtils.save_exr_image_opencv(normal_depth, f\"{out_path}\\\\Asian_Village_DemoWorldNormalAndSceneDepth{idx}\")\n",
    "        ImageUtils.save_exr_image_opencv(pre_tonemapped, f\"{out_path}\\\\Asian_Village_DemoPreTonemapHDRColor{idx}\")"
   ]
  },
  {
   "cell_type": "code",
   "execution_count": 20,
   "metadata": {},
   "outputs": [],
   "source": [
    "def pack_final(base_path: str, total_frames: int, out_path: str):\n",
    "    os.makedirs(out_path, exist_ok=True)\n",
    "    for i in tqdm(range(total_frames)):\n",
    "        if i < 2:\n",
    "            continue\n",
    "        idx = \".\" + str(i).zfill(4) + \".exr\"\n",
    "        pre_tonemapped = ImageUtils.load_exr_image_opencv(f\"{base_path}\\\\PreTonemapHDRColor{idx}\")\n",
    "        ImageUtils.save_exr_image_opencv(pre_tonemapped, f\"{out_path}\\\\Asian_Village_DemoPreTonemapHDRColor{idx}\")"
   ]
  },
  {
   "cell_type": "code",
   "execution_count": 21,
   "metadata": {},
   "outputs": [],
   "source": [
    "base_path = \"D:\\\\Dev\\\\MinorProjDataset\\\\V5\\\\DFASR\"\n",
    "total_frames = 124\n",
    "data_path = base_path + \"\\\\Brass_Town\"\n",
    "out_path = base_path + \"\\\\Brass_Town_DFASR\"\n",
    "# Check data path folder exists\n",
    "if not os.path.exists(data_path):\n",
    "    print(\"Data path does not exist\")\n",
    "os.makedirs(out_path, exist_ok=True)"
   ]
  },
  {
   "cell_type": "code",
   "execution_count": 22,
   "metadata": {},
   "outputs": [
    {
     "name": "stderr",
     "output_type": "stream",
     "text": [
      "100%|██████████| 124/124 [09:58<00:00,  4.83s/it]\n"
     ]
    }
   ],
   "source": [
    "pack_hr(data_path + \"\\\\HighResGbuffer\", total_frames, out_path + \"\\\\GBuffer-1080P\")"
   ]
  },
  {
   "cell_type": "code",
   "execution_count": 23,
   "metadata": {},
   "outputs": [
    {
     "name": "stdout",
     "output_type": "stream",
     "text": [
      "D:\\Dev\\MinorProjDataset\\V5\\DFASR\\Brass_Town_DFASR\\Nojitter-540P\n"
     ]
    },
    {
     "name": "stderr",
     "output_type": "stream",
     "text": [
      "100%|██████████| 124/124 [03:47<00:00,  1.83s/it]\n"
     ]
    }
   ],
   "source": [
    "pack_lr(data_path + \"\\\\LowResGbuffer\", total_frames, out_path + \"\\\\Nojitter-540P\")"
   ]
  },
  {
   "cell_type": "code",
   "execution_count": 24,
   "metadata": {},
   "outputs": [
    {
     "name": "stderr",
     "output_type": "stream",
     "text": [
      "  0%|          | 0/124 [00:00<?, ?it/s]"
     ]
    },
    {
     "name": "stderr",
     "output_type": "stream",
     "text": [
      "100%|██████████| 124/124 [03:10<00:00,  1.53s/it]\n"
     ]
    }
   ],
   "source": [
    "pack_final(data_path + \"\\\\HighResGbuffer\", total_frames, out_path + \"\\\\Nojitter-1080P\")"
   ]
  }
 ],
 "metadata": {
  "kernelspec": {
   "display_name": ".venv",
   "language": "python",
   "name": "python3"
  },
  "language_info": {
   "codemirror_mode": {
    "name": "ipython",
    "version": 3
   },
   "file_extension": ".py",
   "mimetype": "text/x-python",
   "name": "python",
   "nbconvert_exporter": "python",
   "pygments_lexer": "ipython3",
   "version": "3.12.4"
  }
 },
 "nbformat": 4,
 "nbformat_minor": 2
}

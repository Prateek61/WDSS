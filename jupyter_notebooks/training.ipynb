{
 "cells": [
  {
   "cell_type": "code",
   "execution_count": null,
   "id": "6b197f06",
   "metadata": {},
   "outputs": [],
   "source": [
    "from notebook_utils import *"
   ]
  },
  {
   "cell_type": "code",
   "execution_count": null,
   "id": "d3cbad10",
   "metadata": {},
   "outputs": [],
   "source": [
    "settings = initialize_settings(\"config/config-test.json\")\n",
    "train, val, test = WDSSDataset.get_datasets(settings)\n",
    "preprocessor = get_preprocessor(settings)"
   ]
  },
  {
   "cell_type": "code",
   "execution_count": 3,
   "id": "1d80ec66",
   "metadata": {},
   "outputs": [],
   "source": [
    "model = get_model(settings['model_config']).to(device)"
   ]
  },
  {
   "cell_type": "code",
   "execution_count": 4,
   "id": "896b9a02",
   "metadata": {},
   "outputs": [],
   "source": [
    "criterion = CriterionSimple(0.5, 0.5)\n",
    "optimizer = torch.optim.Adam(model.parameters(), lr=0.0001)\n",
    "scheduler = torch.optim.lr_scheduler.StepLR(optimizer, step_size=20, gamma=0.5)"
   ]
  },
  {
   "cell_type": "code",
   "execution_count": 5,
   "id": "4c1e1d96",
   "metadata": {},
   "outputs": [],
   "source": [
    "trainer = Trainer(\n",
    "    settings=settings,\n",
    "    model=model,\n",
    "    optimizer=optimizer,\n",
    "    scheduler=scheduler,\n",
    "    criterion=criterion,\n",
    "    train_dataset=train,\n",
    "    val_dataset=val,\n",
    "    test_dataset=test\n",
    ")"
   ]
  },
  {
   "cell_type": "code",
   "execution_count": null,
   "id": "0608fd2a",
   "metadata": {},
   "outputs": [],
   "source": [
    "try:\n",
    "    trainer.load_latest_checkpoint()\n",
    "    print(f\"Checkpoint {trainer.total_epochs} loaded.\")\n",
    "except:\n",
    "    print(\"No checkpoint found, starting from scratch.\")\n",
    "    pass"
   ]
  },
  {
   "cell_type": "code",
   "execution_count": null,
   "id": "06679238",
   "metadata": {},
   "outputs": [],
   "source": [
    "trainer.train(100)"
   ]
  }
 ],
 "metadata": {
  "kernelspec": {
   "display_name": ".venv",
   "language": "python",
   "name": "python3"
  },
  "language_info": {
   "codemirror_mode": {
    "name": "ipython",
    "version": 3
   },
   "file_extension": ".py",
   "mimetype": "text/x-python",
   "name": "python",
   "nbconvert_exporter": "python",
   "pygments_lexer": "ipython3",
   "version": "3.12.4"
  }
 },
 "nbformat": 4,
 "nbformat_minor": 5
}

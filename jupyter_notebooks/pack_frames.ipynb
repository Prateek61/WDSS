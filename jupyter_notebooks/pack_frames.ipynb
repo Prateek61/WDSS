{
 "cells": [
  {
   "cell_type": "code",
   "execution_count": 1,
   "metadata": {},
   "outputs": [
    {
     "name": "stdout",
     "output_type": "stream",
     "text": [
      "c:\\Dev\\MinorProject\\WDSS\\jupyter_notebooks\n",
      "c:\\Dev\\MinorProject\\WDSS\n"
     ]
    }
   ],
   "source": [
    "import os\n",
    "# Display current working directory\n",
    "print(os.getcwd())\n",
    "# To make sure opencv imports .exr files\n",
    "os.environ[\"OPENCV_IO_ENABLE_OPENEXR\"] = \"1\"\n",
    "# If the current directory is not WDSS, then set it to one level up\n",
    "if os.getcwd()[-4:] != 'WDSS':\n",
    "    os.chdir('..')\n",
    "print(os.getcwd())"
   ]
  },
  {
   "cell_type": "code",
   "execution_count": 2,
   "metadata": {},
   "outputs": [],
   "source": [
    "import torch\n",
    "import torch.nn as nn\n",
    "import torch.nn.functional as F\n",
    "import torch.optim as optim\n",
    "from torch.optim.lr_scheduler import StepLR\n",
    "import numpy as np\n",
    "import cv2\n",
    "import matplotlib.pyplot as plt\n",
    "import time\n",
    "\n",
    "from typing import List, Tuple, Dict\n",
    "\n",
    "from utils.image_utils import ImageUtils\n",
    "from config import device, Settings\n",
    "from commons import initialize"
   ]
  },
  {
   "cell_type": "code",
   "execution_count": 8,
   "metadata": {},
   "outputs": [],
   "source": [
    "from network.dataset import *\n",
    "import tqdm"
   ]
  },
  {
   "cell_type": "code",
   "execution_count": 27,
   "metadata": {},
   "outputs": [],
   "source": [
    "def pack_metallic_roughness_specular(path: str, total_frames: int, save_file_name: str = 'MetallicRoughnessSpecular'):\n",
    "    for i in tqdm.tqdm(range(total_frames), desc='Packing Metallic, Roughness and Specular'):\n",
    "        metallic_path = f'{path}\\\\Metallic'\n",
    "        roughness_path = f'{path}\\\\Roughness'\n",
    "        normal_path = f'{path}\\\\Specular'\n",
    "        idx = \".\" + str(i).zfill(4) + \".exr\"\n",
    "\n",
    "        metallic = ImageUtils.load_exr_image_opencv(metallic_path + idx)[:, :, 0:1]\n",
    "        roughness = ImageUtils.load_exr_image_opencv(roughness_path + idx)[:, :, 0:1]\n",
    "        normal = ImageUtils.load_exr_image_opencv(normal_path + idx)[:, :, 0:1]\n",
    "\n",
    "        packed = np.concatenate((metallic, roughness, normal), axis=2)\n",
    "\n",
    "        ImageUtils.save_exr_image_opencv(packed, f'{path}\\\\{save_file_name}{idx}')\n",
    "\n",
    "def pack_nov_depth(path: str, total_frames: int, save_file_name: str = 'NoVDepth'):\n",
    "    for i in tqdm.tqdm(range(total_frames), desc='Packing NoV and Depth'):\n",
    "        nov_path = f'{path}\\\\Nov'\n",
    "        depth_path = f'{path}\\\\SceneDepth'\n",
    "        idx = \".\" + str(i).zfill(4) + \".exr\"\n",
    "\n",
    "        nov = ImageUtils.load_exr_image_opencv(nov_path + idx)[:, :, 0:1]\n",
    "        depth = ImageUtils.load_exr_image_opencv(depth_path + idx)[:, :, 0:1]\n",
    "\n",
    "        packed = np.concatenate((nov, depth, depth), axis=2)\n",
    "\n",
    "        ImageUtils.save_exr_image_opencv(packed, f'{path}\\\\{save_file_name}{idx}')\n",
    "\n",
    "def delete_files(path: str, total_frames: int, file_name: str):\n",
    "    for i in tqdm.tqdm(range(total_frames), desc=f'Deleting {file_name}'):\n",
    "        idx = \".\" + str(i).zfill(4) + \".exr\"\n",
    "        os.remove(f'{path}\\\\{file_name}{idx}')"
   ]
  },
  {
   "cell_type": "code",
   "execution_count": 28,
   "metadata": {},
   "outputs": [],
   "source": [
    "def pack_g_buffer(path: str, total_frames: int):\n",
    "    pack_metallic_roughness_specular(path, total_frames)\n",
    "    pack_nov_depth(path, total_frames)\n",
    "    delete_files(path, total_frames, 'Metallic')\n",
    "    delete_files(path, total_frames, 'Roughness')\n",
    "    delete_files(path, total_frames, 'Specular')\n",
    "    delete_files(path, total_frames, 'Nov')\n",
    "    delete_files(path, total_frames, 'SceneDepth')"
   ]
  },
  {
   "cell_type": "code",
   "execution_count": 29,
   "metadata": {},
   "outputs": [],
   "source": [
    "def pack_dataset(path: str):\n",
    "    pack_g_buffer(f'{path}\\\\LowResGbuffer', 127)\n",
    "    pack_g_buffer(f'{path}\\\\HighResGbuffer', 127)"
   ]
  },
  {
   "cell_type": "code",
   "execution_count": 30,
   "metadata": {},
   "outputs": [],
   "source": [
    "path = 'D:\\\\Dev\\\\MinorProjDataset\\\\V4\\\\Data\\\\train\\\\Asain_Village_1'"
   ]
  },
  {
   "cell_type": "code",
   "execution_count": 31,
   "metadata": {},
   "outputs": [
    {
     "name": "stderr",
     "output_type": "stream",
     "text": [
      "Packing Metallic, Roughness and Specular: 100%|██████████| 127/127 [00:23<00:00,  5.38it/s]\n",
      "Packing NoV and Depth: 100%|██████████| 127/127 [00:36<00:00,  3.50it/s]\n",
      "Deleting Metallic: 100%|██████████| 127/127 [00:00<00:00, 1462.14it/s]\n",
      "Deleting Roughness: 100%|██████████| 127/127 [00:00<00:00, 1521.24it/s]\n",
      "Deleting Specular: 100%|██████████| 127/127 [00:00<00:00, 1367.47it/s]\n",
      "Deleting Nov: 100%|██████████| 127/127 [00:00<00:00, 534.85it/s]\n",
      "Deleting SceneDepth: 100%|██████████| 127/127 [00:00<00:00, 1109.48it/s]\n",
      "Packing Metallic, Roughness and Specular: 100%|██████████| 127/127 [01:01<00:00,  2.08it/s]\n",
      "Packing NoV and Depth: 100%|██████████| 127/127 [01:41<00:00,  1.25it/s]\n",
      "Deleting Metallic: 100%|██████████| 127/127 [00:00<00:00, 390.02it/s]\n",
      "Deleting Roughness: 100%|██████████| 127/127 [00:00<00:00, 501.79it/s]\n",
      "Deleting Specular: 100%|██████████| 127/127 [00:00<00:00, 634.68it/s]\n",
      "Deleting Nov: 100%|██████████| 127/127 [00:00<00:00, 645.90it/s]\n",
      "Deleting SceneDepth: 100%|██████████| 127/127 [00:00<00:00, 611.06it/s]\n"
     ]
    }
   ],
   "source": [
    "pack_dataset(path)"
   ]
  }
 ],
 "metadata": {
  "kernelspec": {
   "display_name": ".venv",
   "language": "python",
   "name": "python3"
  },
  "language_info": {
   "codemirror_mode": {
    "name": "ipython",
    "version": 3
   },
   "file_extension": ".py",
   "mimetype": "text/x-python",
   "name": "python",
   "nbconvert_exporter": "python",
   "pygments_lexer": "ipython3",
   "version": "3.12.4"
  }
 },
 "nbformat": 4,
 "nbformat_minor": 2
}

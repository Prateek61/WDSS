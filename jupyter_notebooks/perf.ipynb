{
 "cells": [
  {
   "cell_type": "code",
   "execution_count": 1,
   "metadata": {},
   "outputs": [
    {
     "name": "stdout",
     "output_type": "stream",
     "text": [
      "c:\\Dev\\MinorProject\\WDSS\\jupyter_notebooks\n",
      "c:\\Dev\\MinorProject\\WDSS\n",
      "Job: Navin_relu_mse, Model: WDSSV5, Device: cuda\n",
      "Model path: out\\Navin_relu_mse-WDSSV5\\model\n",
      "Log path: out\\Navin_relu_mse-WDSSV5\\logs\n",
      "Setting up [LPIPS] perceptual loss: trunk [vgg], v[0.1], spatial [off]\n"
     ]
    },
    {
     "name": "stderr",
     "output_type": "stream",
     "text": [
      "c:\\Dev\\MinorProject\\WDSS\\.venv\\Lib\\site-packages\\torchvision\\models\\_utils.py:208: UserWarning: The parameter 'pretrained' is deprecated since 0.13 and may be removed in the future, please use 'weights' instead.\n",
      "  warnings.warn(\n",
      "c:\\Dev\\MinorProject\\WDSS\\.venv\\Lib\\site-packages\\torchvision\\models\\_utils.py:223: UserWarning: Arguments other than a weight enum or `None` for 'weights' are deprecated since 0.13 and may be removed in the future. The current behavior is equivalent to passing `weights=VGG16_Weights.IMAGENET1K_V1`. You can also use `weights=VGG16_Weights.DEFAULT` to get the most up-to-date weights.\n",
      "  warnings.warn(msg)\n"
     ]
    },
    {
     "name": "stdout",
     "output_type": "stream",
     "text": [
      "Loading model from: c:\\Dev\\MinorProject\\WDSS\\.venv\\Lib\\site-packages\\lpips\\weights\\v0.1\\vgg.pth\n"
     ]
    }
   ],
   "source": [
    "from nortebook_init import *"
   ]
  },
  {
   "cell_type": "code",
   "execution_count": 2,
   "metadata": {},
   "outputs": [
    {
     "name": "stdout",
     "output_type": "stream",
     "text": [
      "Loaded best checkpoint, epoch 77\n"
     ]
    }
   ],
   "source": [
    "trainer = setup_for_training()"
   ]
  },
  {
   "cell_type": "code",
   "execution_count": 3,
   "metadata": {},
   "outputs": [],
   "source": [
    "frame = test_dataset[0]"
   ]
  },
  {
   "cell_type": "code",
   "execution_count": 4,
   "metadata": {},
   "outputs": [],
   "source": [
    "lr = frame['LR'].unsqueeze(0).to(device)\n",
    "hr = frame['HR'].unsqueeze(0).to(device)\n",
    "gb = frame['GB'].unsqueeze(0).to(device)\n",
    "temporal = frame['TEMPORAL'].unsqueeze(0).to(device)"
   ]
  },
  {
   "cell_type": "code",
   "execution_count": 5,
   "metadata": {},
   "outputs": [
    {
     "name": "stderr",
     "output_type": "stream",
     "text": [
      "100%|██████████| 100/100 [00:26<00:00,  3.74it/s]"
     ]
    },
    {
     "name": "stdout",
     "output_type": "stream",
     "text": [
      "Elapsed time: 26.75 s\n",
      "Average time per iteration: 0.27 s\n",
      "Average time per iteration: 267.55 ms\n"
     ]
    },
    {
     "name": "stderr",
     "output_type": "stream",
     "text": [
      "\n"
     ]
    }
   ],
   "source": [
    "total_iters = 100\n",
    "trainer.model.eval()\n",
    "\n",
    "with torch.no_grad():\n",
    "    start_time = time.time()\n",
    "    for i in tqdm(range(total_iters)):\n",
    "        _, _ = trainer.model.forward(lr, gb, temporal, 2)\n",
    "\n",
    "elapsed_time = time.time() - start_time\n",
    "print(f\"Elapsed time: {elapsed_time:.2f} s\")\n",
    "print(f\"Average time per iteration: {elapsed_time / total_iters:.2f} s\")\n",
    "# Time in milliseconds\n",
    "print(f\"Average time per iteration: {elapsed_time / total_iters * 1000:.2f} ms\")"
   ]
  }
 ],
 "metadata": {
  "kernelspec": {
   "display_name": ".venv",
   "language": "python",
   "name": "python3"
  },
  "language_info": {
   "codemirror_mode": {
    "name": "ipython",
    "version": 3
   },
   "file_extension": ".py",
   "mimetype": "text/x-python",
   "name": "python",
   "nbconvert_exporter": "python",
   "pygments_lexer": "ipython3",
   "version": "3.12.4"
  }
 },
 "nbformat": 4,
 "nbformat_minor": 2
}

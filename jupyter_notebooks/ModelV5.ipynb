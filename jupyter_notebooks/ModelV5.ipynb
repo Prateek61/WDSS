{
 "cells": [
  {
   "cell_type": "code",
   "execution_count": 1,
   "metadata": {},
   "outputs": [
    {
     "name": "stdout",
     "output_type": "stream",
     "text": [
      "c:\\Dev\\MinorProject\\WDSS\\jupyter_notebooks\n",
      "c:\\Dev\\MinorProject\\WDSS\n"
     ]
    }
   ],
   "source": [
    "import os\n",
    "# Display current working directory\n",
    "print(os.getcwd())\n",
    "# To make sure opencv imports .exr files\n",
    "os.environ[\"OPENCV_IO_ENABLE_OPENEXR\"] = \"1\"\n",
    "# If the current directory is not WDSS, then set it to one level up\n",
    "if os.getcwd()[-4:] != 'WDSS':\n",
    "    os.chdir('..')\n",
    "print(os.getcwd())"
   ]
  },
  {
   "cell_type": "code",
   "execution_count": 2,
   "metadata": {},
   "outputs": [],
   "source": [
    "import torch\n",
    "import torch.nn as nn\n",
    "import torch.nn.functional as F\n",
    "import torch.optim as optim\n",
    "from torch.optim.lr_scheduler import StepLR\n",
    "import numpy as np\n",
    "import cv2\n",
    "import matplotlib.pyplot as plt\n",
    "import time\n",
    "\n",
    "from typing import List, Tuple, Dict\n",
    "\n",
    "from config import device, Settings\n",
    "from commons import initialize"
   ]
  },
  {
   "cell_type": "code",
   "execution_count": 3,
   "metadata": {},
   "outputs": [
    {
     "name": "stdout",
     "output_type": "stream",
     "text": [
      "Job: WithoutINRL1, Model: WDSSV5, Device: cuda\n",
      "Model path: out\\WithoutINRL1-WDSSV5\\model\n",
      "Log path: out\\WithoutINRL1-WDSSV5\\logs\n"
     ]
    }
   ],
   "source": [
    "settings = Settings(\"config/config.json\", \"WDSSV5\")\n",
    "initialize(settings=settings)"
   ]
  },
  {
   "cell_type": "code",
   "execution_count": 4,
   "metadata": {},
   "outputs": [],
   "source": [
    "from network.dataset import *\n",
    "\n",
    "train_dataset, val_dataset, test_dataset = WDSSDatasetCompressed.get_datasets(settings)"
   ]
  },
  {
   "cell_type": "code",
   "execution_count": 5,
   "metadata": {},
   "outputs": [],
   "source": [
    "from network.modules import *\n",
    "\n",
    "class WDSSModelV5(nn.Module):\n",
    "    def __init__(self):\n",
    "        super(WDSSModelV5, self).__init__()\n",
    "\n",
    "        self.lr_frame_feature_extractor = LRFrameFeatureExtractor(12, 64, [32, 48, 48])\n",
    "        self.hr_gbuffer_feature_extractor = HRGBufferFeatureExtractor(44, 5, 64)\n",
    "        self.feature_fusion = FeatureFusion(64, 12, [64, 48])\n",
    "        self.inr = FourierMappedINR(lr_feat_c=32, gb_feat_c=32, out_channels=12, mlp_inp_channels=64, hidden_channels=[64, 64, 64])\n",
    "\n",
    "        self.final_conv = nn.Conv2d(12, 12, 3, 1, 1)\n",
    "\n",
    "    def forward(self, lr_frame: torch.Tensor, hr_gbuffer: torch.Tensor, temporal: torch.Tensor) -> Tuple[torch.Tensor, torch.Tensor]:\n",
    "        # Pixel unshuffling\n",
    "        lr_frame_pixel_unshuffled = F.pixel_unshuffle(lr_frame, 2)\n",
    "        hr_gbuffers_pixel_unshuffled = F.pixel_unshuffle(hr_gbuffer, 2)\n",
    "\n",
    "        # Extract features\n",
    "        lr_frame_feature = self.lr_frame_feature_extractor(lr_frame_pixel_unshuffled)\n",
    "        hr_gbuffer_feature = self.hr_gbuffer_feature_extractor(hr_gbuffers_pixel_unshuffled)\n",
    "\n",
    "        # Split the lr_frame_feature and hr_gbuffer_feature into 2-2 parts\n",
    "        lr_frame_ff, lr_frame_inr = torch.split(lr_frame_feature, 32, dim=1)\n",
    "        hr_gbuffer_ff, hr_gbuffer_inr = torch.split(hr_gbuffer_feature, 32, dim=1)\n",
    "\n",
    "        # Upsample the lr_frame_ff\n",
    "        lr_frame_ff = ImageUtils.upsample(lr_frame_ff, 2)\n",
    "\n",
    "        # Feature Fusion, input is concatenated lr_frame_ff and hr_gbuffer_ff\n",
    "        feature_fusion = self.feature_fusion(torch.cat([lr_frame_ff, hr_gbuffer_ff], dim=1))\n",
    "\n",
    "        # INR\n",
    "        inr = self.inr(lr_frame_inr, hr_gbuffer_inr)\n",
    "\n",
    "        # Element-wise addition\n",
    "        out = feature_fusion + inr\n",
    "        # out = inr\n",
    "\n",
    "        # Final Convolution\n",
    "        out = self.final_conv(out)\n",
    "\n",
    "        return out, WaveletProcessor.batch_iwt(out)\n",
    "    \n",
    "# Model\n",
    "model = WDSSModelV5().to(device)"
   ]
  },
  {
   "cell_type": "code",
   "execution_count": 6,
   "metadata": {},
   "outputs": [
    {
     "name": "stdout",
     "output_type": "stream",
     "text": [
      "Setting up [LPIPS] perceptual loss: trunk [vgg], v[0.1], spatial [off]\n"
     ]
    },
    {
     "name": "stderr",
     "output_type": "stream",
     "text": [
      "c:\\Dev\\MinorProject\\WDSS\\.venv\\Lib\\site-packages\\torchvision\\models\\_utils.py:208: UserWarning: The parameter 'pretrained' is deprecated since 0.13 and may be removed in the future, please use 'weights' instead.\n",
      "  warnings.warn(\n",
      "c:\\Dev\\MinorProject\\WDSS\\.venv\\Lib\\site-packages\\torchvision\\models\\_utils.py:223: UserWarning: Arguments other than a weight enum or `None` for 'weights' are deprecated since 0.13 and may be removed in the future. The current behavior is equivalent to passing `weights=VGG16_Weights.IMAGENET1K_V1`. You can also use `weights=VGG16_Weights.DEFAULT` to get the most up-to-date weights.\n",
      "  warnings.warn(msg)\n"
     ]
    },
    {
     "name": "stdout",
     "output_type": "stream",
     "text": [
      "Loading model from: c:\\Dev\\MinorProject\\WDSS\\.venv\\Lib\\site-packages\\lpips\\weights\\v0.1\\vgg.pth\n"
     ]
    },
    {
     "name": "stderr",
     "output_type": "stream",
     "text": [
      "c:\\Dev\\MinorProject\\WDSS\\.venv\\Lib\\site-packages\\lpips\\lpips.py:107: FutureWarning: You are using `torch.load` with `weights_only=False` (the current default value), which uses the default pickle module implicitly. It is possible to construct malicious pickle data which will execute arbitrary code during unpickling (See https://github.com/pytorch/pytorch/blob/main/SECURITY.md#untrusted-models for more details). In a future release, the default value for `weights_only` will be flipped to `True`. This limits the functions that could be executed during unpickling. Arbitrary objects will no longer be allowed to be loaded via this mode unless they are explicitly allowlisted by the user via `torch.serialization.add_safe_globals`. We recommend you start setting `weights_only=True` for any use case where you don't have full control of the loaded file. Please open an issue on GitHub for any issues related to this experimental feature.\n",
      "  self.load_state_dict(torch.load(model_path, map_location='cpu'), strict=False)\n"
     ]
    }
   ],
   "source": [
    "from network.losses import CriterionSSIM_L1\n",
    "\n",
    "criterion = CriterionSSIM_L1().to(device=device)\n",
    "optimizer = optim.Adam(model.parameters(), lr=0.001)\n",
    "scheduler = StepLR(optimizer, step_size=5, gamma=0.5)"
   ]
  },
  {
   "cell_type": "code",
   "execution_count": null,
   "metadata": {},
   "outputs": [],
   "source": [
    "from network.trainer import Trainer\n",
    "\n",
    "trainer = Trainer(settings, model, optimizer, scheduler, criterion, train_dataset, val_dataset, test_dataset)"
   ]
  },
  {
   "cell_type": "code",
   "execution_count": null,
   "metadata": {},
   "outputs": [],
   "source": [
    "trainer.train(num_epochs=100)"
   ]
  }
 ],
 "metadata": {
  "kernelspec": {
   "display_name": ".venv",
   "language": "python",
   "name": "python3"
  },
  "language_info": {
   "codemirror_mode": {
    "name": "ipython",
    "version": 3
   },
   "file_extension": ".py",
   "mimetype": "text/x-python",
   "name": "python",
   "nbconvert_exporter": "python",
   "pygments_lexer": "ipython3",
   "version": "3.12.4"
  }
 },
 "nbformat": 4,
 "nbformat_minor": 2
}

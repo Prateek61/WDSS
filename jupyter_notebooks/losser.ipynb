{
 "cells": [
  {
   "cell_type": "code",
   "execution_count": 1,
   "metadata": {},
   "outputs": [
    {
     "name": "stdout",
     "output_type": "stream",
     "text": [
      "d:\\minorProject\\WDSS\\jupyter_notebooks\n",
      "d:\\minorProject\\WDSS\n"
     ]
    }
   ],
   "source": [
    "import os\n",
    "# Display current working directory\n",
    "print(os.getcwd())\n",
    "# To make sure opencv imports .exr files\n",
    "os.environ[\"OPENCV_IO_ENABLE_OPENEXR\"] = \"1\"\n",
    "# If the current directory is not WDSS, then set it to one level up\n",
    "if os.getcwd()[-4:] != 'WDSS':\n",
    "    os.chdir('..')\n",
    "print(os.getcwd())"
   ]
  },
  {
   "cell_type": "code",
   "execution_count": 2,
   "metadata": {},
   "outputs": [],
   "source": [
    "import torch\n",
    "import torch.nn as nn\n",
    "import torch.nn.functional as F\n",
    "import torch.optim as optim\n",
    "from torch.optim.lr_scheduler import StepLR\n",
    "import numpy as np\n",
    "import cv2\n",
    "import matplotlib.pyplot as plt\n",
    "import time\n",
    "\n",
    "from typing import List, Tuple, Dict\n",
    "\n",
    "from config import device, Settings\n",
    "from commons import initialize"
   ]
  },
  {
   "cell_type": "code",
   "execution_count": 3,
   "metadata": {},
   "outputs": [
    {
     "name": "stdout",
     "output_type": "stream",
     "text": [
      "Job: no_egypt, Model: WDSSV5, Device: cuda\n",
      "Model path: out\\no_egypt-WDSSV5\\model\n",
      "Log path: out\\no_egypt-WDSSV5\\logs\n"
     ]
    }
   ],
   "source": [
    "settings = Settings(\"config/config.json\", \"WDSSV5\")\n",
    "initialize(settings=settings)"
   ]
  },
  {
   "cell_type": "code",
   "execution_count": 4,
   "metadata": {},
   "outputs": [],
   "source": [
    "from network.dataset import *\n",
    "\n",
    "train_dataset, val_dataset, test_dataset = WDSSDatasetCompressed.get_datasets(settings)"
   ]
  },
  {
   "cell_type": "code",
   "execution_count": 5,
   "metadata": {},
   "outputs": [],
   "source": [
    "from network.models.WDSS import get_wdss_model\n",
    "    \n",
    "# Model\n",
    "model = get_wdss_model(settings.model_config).to(device)"
   ]
  },
  {
   "cell_type": "code",
   "execution_count": 6,
   "metadata": {},
   "outputs": [
    {
     "name": "stdout",
     "output_type": "stream",
     "text": [
      "Setting up [LPIPS] perceptual loss: trunk [alex], v[0.1], spatial [off]\n"
     ]
    },
    {
     "name": "stderr",
     "output_type": "stream",
     "text": [
      "c:\\Users\\kunwa\\Anaconda\\envs\\wdss\\Lib\\site-packages\\torchvision\\models\\_utils.py:208: UserWarning: The parameter 'pretrained' is deprecated since 0.13 and may be removed in the future, please use 'weights' instead.\n",
      "  warnings.warn(\n",
      "c:\\Users\\kunwa\\Anaconda\\envs\\wdss\\Lib\\site-packages\\torchvision\\models\\_utils.py:223: UserWarning: Arguments other than a weight enum or `None` for 'weights' are deprecated since 0.13 and may be removed in the future. The current behavior is equivalent to passing `weights=AlexNet_Weights.IMAGENET1K_V1`. You can also use `weights=AlexNet_Weights.DEFAULT` to get the most up-to-date weights.\n",
      "  warnings.warn(msg)\n"
     ]
    },
    {
     "name": "stdout",
     "output_type": "stream",
     "text": [
      "Loading model from: c:\\Users\\kunwa\\Anaconda\\envs\\wdss\\Lib\\site-packages\\lpips\\weights\\v0.1\\alex.pth\n"
     ]
    },
    {
     "name": "stderr",
     "output_type": "stream",
     "text": [
      "c:\\Users\\kunwa\\Anaconda\\envs\\wdss\\Lib\\site-packages\\lpips\\lpips.py:107: FutureWarning: You are using `torch.load` with `weights_only=False` (the current default value), which uses the default pickle module implicitly. It is possible to construct malicious pickle data which will execute arbitrary code during unpickling (See https://github.com/pytorch/pytorch/blob/main/SECURITY.md#untrusted-models for more details). In a future release, the default value for `weights_only` will be flipped to `True`. This limits the functions that could be executed during unpickling. Arbitrary objects will no longer be allowed to be loaded via this mode unless they are explicitly allowlisted by the user via `torch.serialization.add_safe_globals`. We recommend you start setting `weights_only=True` for any use case where you don't have full control of the loaded file. Please open an issue on GitHub for any issues related to this experimental feature.\n",
      "  self.load_state_dict(torch.load(model_path, map_location='cpu'), strict=False)\n"
     ]
    }
   ],
   "source": [
    "from network.losses import Criterion_Combined \n",
    "\n",
    "criterion = Criterion_Combined().to(device)\n",
    "optimizer = optim.Adam(model.parameters(), lr=0.0001)\n",
    "scheduler = StepLR(optimizer, step_size=20, gamma=0.5)"
   ]
  },
  {
   "cell_type": "code",
   "execution_count": 7,
   "metadata": {},
   "outputs": [],
   "source": [
    "from network.trainer import Trainer\n",
    "\n",
    "trainer = Trainer(settings, model, optimizer, scheduler, criterion, train_dataset, val_dataset, test_dataset)"
   ]
  },
  {
   "cell_type": "code",
   "execution_count": 8,
   "metadata": {},
   "outputs": [
    {
     "data": {
      "text/plain": [
       "['loss_l1_image_train',\n",
       " 'loss_l1_image_val',\n",
       " 'loss_l1_reconstructed_train',\n",
       " 'loss_l1_reconstructed_val',\n",
       " 'loss_l1_wavelets_train',\n",
       " 'loss_l1_wavelets_val',\n",
       " 'loss_lpips_reconstructed_train',\n",
       " 'loss_lpips_reconstructed_val',\n",
       " 'loss_ssim_image_train',\n",
       " 'loss_ssim_image_val',\n",
       " 'loss_ssim_reconstructed_train',\n",
       " 'loss_ssim_reconstructed_val',\n",
       " 'loss_train',\n",
       " 'loss_val']"
      ]
     },
     "execution_count": 8,
     "metadata": {},
     "output_type": "execute_result"
    }
   ],
   "source": [
    "losses = trainer.get_saved_losses()\n",
    "losses"
   ]
  },
  {
   "cell_type": "code",
   "execution_count": 9,
   "metadata": {},
   "outputs": [
    {
     "name": "stdout",
     "output_type": "stream",
     "text": [
      "loss_l1_wavelets_train\n"
     ]
    },
    {
     "data": {
      "text/plain": [
       "{'loss_l1_wavelets': [(1, 0.6265761256217957),\n",
       "  (2, 0.22114910185337067),\n",
       "  (3, 0.1987801492214203),\n",
       "  (4, 0.19219867885112762),\n",
       "  (5, 0.1878487914800644),\n",
       "  (6, 0.17916510999202728),\n",
       "  (7, 0.1689338982105255),\n",
       "  (8, 0.1721072643995285),\n",
       "  (9, 0.16902755200862885),\n",
       "  (10, 0.16193152964115143),\n",
       "  (11, 0.15992431342601776),\n",
       "  (12, 0.15716204047203064),\n",
       "  (13, 0.15159191191196442),\n",
       "  (14, 0.1483338475227356),\n",
       "  (15, 0.15107814967632294),\n",
       "  (16, 0.1491963118314743),\n",
       "  (17, 0.14500172436237335),\n",
       "  (18, 0.14739109575748444),\n",
       "  (19, 0.14478591084480286),\n",
       "  (20, 0.14271396398544312),\n",
       "  (21, 0.14298589527606964),\n",
       "  (22, 0.1412399709224701),\n",
       "  (23, 0.1416381150484085),\n",
       "  (24, 0.13974452018737793),\n",
       "  (25, 0.13486462831497192),\n",
       "  (26, 0.1349138766527176),\n",
       "  (27, 0.14024990797042847),\n",
       "  (28, 0.13818880915641785),\n",
       "  (29, 0.13576847314834595),\n",
       "  (30, 0.13550175726413727),\n",
       "  (31, 0.13445276021957397),\n",
       "  (32, 0.13342367112636566),\n",
       "  (33, 0.13571253418922424),\n",
       "  (34, 0.1322842240333557),\n",
       "  (35, 0.13600663840770721),\n",
       "  (36, 0.1359010934829712),\n",
       "  (37, 0.13224710524082184),\n",
       "  (38, 0.13494829833507538),\n",
       "  (39, 0.13487303256988525),\n",
       "  (40, 0.13176032900810242),\n",
       "  (41, 0.13337282836437225),\n",
       "  (42, 0.129482701420784),\n",
       "  (43, 0.1331031173467636),\n",
       "  (44, 0.1331203728914261),\n",
       "  (45, 0.13188308477401733),\n",
       "  (46, 0.13170821964740753),\n",
       "  (47, 0.13551321625709534),\n",
       "  (48, 0.1306898593902588),\n",
       "  (49, 0.13184766471385956),\n",
       "  (50, 0.12899911403656006),\n",
       "  (51, 0.13374441862106323),\n",
       "  (52, 0.13236983120441437),\n",
       "  (53, 0.1274842619895935),\n",
       "  (54, 0.1293659806251526),\n",
       "  (55, 0.1314394772052765),\n",
       "  (56, 0.12892383337020874),\n",
       "  (57, 0.13089711964130402),\n",
       "  (58, 0.1299816220998764),\n",
       "  (59, 0.13030925393104553),\n",
       "  (60, 0.1338941752910614),\n",
       "  (61, 0.12822404503822327),\n",
       "  (62, 0.13113117218017578),\n",
       "  (63, 0.1315997689962387),\n",
       "  (64, 0.1293734312057495),\n",
       "  (65, 0.12621784210205078),\n",
       "  (66, 0.12911273539066315),\n",
       "  (67, 0.12726593017578125),\n",
       "  (68, 0.1287854015827179),\n",
       "  (69, 0.13101640343666077),\n",
       "  (70, 0.12884590029716492),\n",
       "  (71, 0.12519508600234985),\n",
       "  (72, 0.12817546725273132),\n",
       "  (73, 0.13095976412296295),\n",
       "  (74, 0.13122950494289398),\n",
       "  (75, 0.12550166249275208),\n",
       "  (76, 0.1256333440542221),\n",
       "  (77, 0.12365030497312546),\n",
       "  (78, 0.12572377920150757),\n",
       "  (79, 0.12448592483997345),\n",
       "  (80, 0.12619571387767792),\n",
       "  (81, 0.12678563594818115),\n",
       "  (82, 0.12723831832408905),\n",
       "  (83, 0.12902943789958954),\n",
       "  (84, 0.12554681301116943),\n",
       "  (85, 0.12667667865753174),\n",
       "  (86, 0.1265556812286377),\n",
       "  (87, 0.12741604447364807),\n",
       "  (88, 0.12868082523345947),\n",
       "  (89, 0.12688301503658295),\n",
       "  (90, 0.1264793574810028),\n",
       "  (91, 0.1293274313211441),\n",
       "  (92, 0.12375310063362122),\n",
       "  (93, 0.12675176560878754),\n",
       "  (94, 0.1262250542640686),\n",
       "  (95, 0.1238163560628891),\n",
       "  (96, 0.129991352558136),\n",
       "  (97, 0.12825284898281097),\n",
       "  (98, 0.12718215584754944),\n",
       "  (99, 0.12713460624217987),\n",
       "  (100, 0.12648539245128632),\n",
       "  (101, 0.12496145069599152),\n",
       "  (102, 0.12609657645225525)]}"
      ]
     },
     "execution_count": 9,
     "metadata": {},
     "output_type": "execute_result"
    }
   ],
   "source": [
    "\n",
    "loss_folder =  losses[4]\n",
    "\n",
    "trainer.get_loss_data(loss_folder)\n"
   ]
  },
  {
   "cell_type": "code",
   "execution_count": 19,
   "metadata": {},
   "outputs": [
    {
     "name": "stdout",
     "output_type": "stream",
     "text": [
      "loss\n"
     ]
    },
    {
     "data": {
      "image/png": "[encoded data removed]",
      "text/plain": [
       "<Figure size 800x500 with 1 Axes>"
      ]
     },
     "metadata": {},
     "output_type": "display_data"
    }
   ],
   "source": [
    "num = 6\n",
    "\n",
    "x = losses[num*2]\n",
    "x = x[:x.rfind('_')]\n",
    "print(x)\n",
    "\n",
    "config = {\n",
    "    'loss_threshold' : .9 ,\n",
    "    'title' : False ,\n",
    "    'clip_threshold' : .45\n",
    "}\n",
    "\n",
    "trainer.visualize_losses(x , config)"
   ]
  },
  {
   "cell_type": "code",
   "execution_count": null,
   "metadata": {},
   "outputs": [],
   "source": []
  },
  {
   "cell_type": "code",
   "execution_count": null,
   "metadata": {},
   "outputs": [],
   "source": [
    "\n"
   ]
  },
  {
   "cell_type": "code",
   "execution_count": null,
   "metadata": {},
   "outputs": [],
   "source": []
  }
 ],
 "metadata": {
  "kernelspec": {
   "display_name": "wdss",
   "language": "python",
   "name": "python3"
  },
  "language_info": {
   "codemirror_mode": {
    "name": "ipython",
    "version": 3
   },
   "file_extension": ".py",
   "mimetype": "text/x-python",
   "name": "python",
   "nbconvert_exporter": "python",
   "pygments_lexer": "ipython3",
   "version": "3.12.8"
  }
 },
 "nbformat": 4,
 "nbformat_minor": 2
}

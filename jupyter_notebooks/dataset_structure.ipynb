{
 "cells": [
  {
   "cell_type": "markdown",
   "metadata": {},
   "source": [
    "# Tools and Utils to create the dataset structure"
   ]
  },
  {
   "cell_type": "code",
   "execution_count": 40,
   "metadata": {},
   "outputs": [],
   "source": [
    "import os\n",
    "import sys\n",
    "import zipfile\n",
    "from tqdm import tqdm\n",
    "import re"
   ]
  },
  {
   "cell_type": "code",
   "execution_count": 3,
   "metadata": {},
   "outputs": [],
   "source": [
    "data_base_folder = 'D:\\\\Dev\\\\MinorProjDataset\\\\V3\\\\Data'"
   ]
  },
  {
   "cell_type": "code",
   "execution_count": 28,
   "metadata": {},
   "outputs": [],
   "source": [
    "# Remove prefix from all files in a folder\n",
    "def remove_prefix(folder: str, prefix: str):\n",
    "    # Get the total number of files to be processed\n",
    "    total_files = sum([len(files) for _, _, files in os.walk(folder)])\n",
    "    \n",
    "    # Recursively remove prefix from all the files in this folder and its subfolders\n",
    "    with tqdm(total=total_files, desc=\"Removing Prefix\", unit=\"file\") as pbar:\n",
    "        for root, dirs, files in os.walk(folder):\n",
    "            for file in files:\n",
    "                if file.startswith(prefix + '.'):\n",
    "                    new_name = file[len(prefix) + 1:]\n",
    "                    os.rename(os.path.join(root, file), os.path.join(root, new_name))\n",
    "                elif file.startswith(prefix):\n",
    "                    new_name = file[len(prefix):]\n",
    "                    os.rename(os.path.join(root, file), os.path.join(root, new_name))\n",
    "                pbar.update(1)"
   ]
  },
  {
   "cell_type": "code",
   "execution_count": 38,
   "metadata": {},
   "outputs": [],
   "source": [
    "# Rename all folders in a folder\n",
    "def rename_folders(base_folder: str, old_name_re: str, new_name: str):\n",
    "    for root, dirs, _ in os.walk(base_folder):\n",
    "        for dir in dirs:\n",
    "            # If the folder name matches the regex, rename it\n",
    "            if re.match(old_name_re, dir):\n",
    "                new_dir = re.sub(old_name_re, new_name, dir)\n",
    "                os.rename(os.path.join(root, dir), os.path.join(root, new_dir))"
   ]
  },
  {
   "cell_type": "code",
   "execution_count": 25,
   "metadata": {},
   "outputs": [],
   "source": [
    "# Zip the folder with max compression\n",
    "# Is single threaded and very slow, do not use for large folders like our dataset\n",
    "def zip_folder(folder: str, zip_file_name: str = '') -> str:\n",
    "    # Get the folder name\n",
    "    folder_name = os.path.basename(folder)\n",
    "\n",
    "    # If the zip file name is not provided, use the folder name\n",
    "    if not zip_file_name:\n",
    "        zip_file_name = folder_name + '.zip'\n",
    "\n",
    "    # Create a zip file in the parent folder\n",
    "    zip_file = os.path.join(os.path.dirname(folder), zip_file_name)\n",
    "    \n",
    "    # Get the total number of files to be zipped\n",
    "    total_files = sum([len(files) for _, _, files in os.walk(folder)])\n",
    "    \n",
    "    with zipfile.ZipFile(zip_file, 'w', zipfile.ZIP_DEFLATED) as zipf:\n",
    "        with tqdm(total=total_files, desc=\"Zipping\", unit=\"file\") as pbar:\n",
    "            for root, dirs, files in os.walk(folder):\n",
    "                for file in files:\n",
    "                    zipf.write(os.path.join(root, file), os.path.relpath(os.path.join(root, file), folder))\n",
    "                    pbar.update(1)\n",
    "    \n",
    "    return zip_file"
   ]
  },
  {
   "cell_type": "code",
   "execution_count": 47,
   "metadata": {},
   "outputs": [
    {
     "name": "stderr",
     "output_type": "stream",
     "text": [
      "Removing Prefix: 100%|██████████| 16946/16946 [00:00<00:00, 207054.02file/s]\n",
      "Removing Prefix: 100%|██████████| 16946/16946 [00:00<00:00, 279219.33file/s]\n"
     ]
    }
   ],
   "source": [
    "remove_prefix(data_base_folder, 'Asian_Village_Demo')\n",
    "remove_prefix(data_base_folder, 'Stylized_Egypt_Demo')"
   ]
  },
  {
   "cell_type": "code",
   "execution_count": 48,
   "metadata": {},
   "outputs": [],
   "source": [
    "rename_folders(data_base_folder, '^High_Gbuffer(s?)$', 'HighResGBuffer')\n",
    "rename_folders(data_base_folder, '^Low_Gbuffer(s?)$', 'LowResGBuffer')\n",
    "rename_folders(data_base_folder, '^High_Res$', 'HighRes')\n",
    "rename_folders(data_base_folder, '^Low_Res$', 'LowRes')"
   ]
  }
 ],
 "metadata": {
  "kernelspec": {
   "display_name": ".venv",
   "language": "python",
   "name": "python3"
  },
  "language_info": {
   "codemirror_mode": {
    "name": "ipython",
    "version": 3
   },
   "file_extension": ".py",
   "mimetype": "text/x-python",
   "name": "python",
   "nbconvert_exporter": "python",
   "pygments_lexer": "ipython3",
   "version": "3.12.4"
  }
 },
 "nbformat": 4,
 "nbformat_minor": 2
}

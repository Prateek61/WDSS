{
 "cells": [
  {
   "cell_type": "code",
   "execution_count": null,
   "id": "083ad5ba",
   "metadata": {},
   "outputs": [],
   "source": [
    "from notebook_utils import *\n",
    "\n",
    "import concurrent"
   ]
  },
  {
   "cell_type": "code",
   "execution_count": null,
   "id": "b1cef363",
   "metadata": {},
   "outputs": [],
   "source": [
    "def pack(base_path: str, output_path: str, max_frame: int):\n",
    "    os.makedirs(output_path, exist_ok=True)\n",
    "\n",
    "    def pack_frame(frame_no: int):\n",
    "        if frame_no < 2:\n",
    "            return\n",
    "        \n",
    "        idx = \".\" + str(frame_no).zfill(4) + \".exr\"\n",
    "\n",
    "        # Read\n",
    "        base_color_depth = ImageUtils.load_exr_image_opencv(f\"{base_path}\\\\{GB_TYPE.BASE_COLOR_DEPTH.value}{idx}\")\n",
    "        mv_roughness_nov = ImageUtils.load_exr_image_opencv(f\"{base_path}\\\\{GB_TYPE.MV_ROUGHNESS_NOV.value}{idx}\")\n",
    "        normal_specular = ImageUtils.load_exr_image_opencv(f\"{base_path}\\\\{GB_TYPE.NORMAL_SPECULAR.value}{idx}\")\n",
    "        pretonemap_metallic = ImageUtils.load_exr_image_opencv(f\"{base_path}\\\\{GB_TYPE.PRETONEMAP_METALLIC.value}{idx}\")\n",
    "\n",
    "        # Packed IDX start from 0000\n",
    "        idx = \".\" + str(frame_no - 2).zfill(4) + \".exr\"\n",
    "\n",
    "        # Pack\n",
    "        p_mv_metallic_roughness = np.concatenate((\n",
    "            mv_roughness_nov[:, :, 0:2], # Motion Vector\n",
    "            pretonemap_metallic[:, :, 3:4], # Metallic\n",
    "            mv_roughness_nov[:, :, 2:3], # Roughness\n",
    "        ), axis=2)\n",
    "        p_nov = mv_roughness_nov[:, :, 3:4]  # Normal Occlusion Vector\n",
    "        p_specular = normal_specular[:, :, 3:4]  # Specular\n",
    "        p_normal_depth = np.concatenate((\n",
    "            normal_specular[:, :, 0:3],  # Normal\n",
    "            base_color_depth[:, :, 3:4]  # Depth\n",
    "        ), axis=2)\n",
    "        p_albedo = base_color_depth[:, :, 0:3] + (1 - pretonemap_metallic[:, :, 3:4]) * 0.08 * normal_specular[:, :, 3:4]\n",
    "\n",
    "        # Save\n",
    "        ImageUtils.save_exr_image_opencv(p_albedo, f\"{output_path}\\\\Asian_Village_DemoAlbedo{idx}\")\n",
    "        ImageUtils.save_exr_image_opencv(base_color_depth[:, :, 0:3], f\"{output_path}\\\\Asian_Village_DemoBaseColor{idx}\")\n",
    "        ImageUtils.save_exr_image_opencv(p_mv_metallic_roughness, f\"{output_path}\\\\Asian_Village_DemoMotionVectorAndMetallicAndRoughness{idx}\")\n",
    "        ImageUtils.save_exr_image_opencv(p_nov, f\"{output_path}\\\\Asian_Village_DemoNoV{idx}\")\n",
    "        ImageUtils.save_exr_image_opencv(p_specular, f\"{output_path}\\\\Asian_Village_DemoSpecular{idx}\")\n",
    "        ImageUtils.save_exr_image_opencv(p_normal_depth, f\"{output_path}\\\\Asian_Village_DemoWorldNormalAndSceneDepth{idx}\")\n",
    "        ImageUtils.save_exr_image_opencv(pretonemap_metallic[:, :, 0:3], f\"{output_path}\\\\Asian_Village_DemoPreTonemapHDRColor{idx}\")\n",
    "\n",
    "    with concurrent.futures.ThreadPoolExecutor() as executor:\n",
    "        list(tqdm(executor.map(pack_frame, range(2, max_frame + 1)), total=max_frame - 1, desc=\"Packing frames\"))\n"
   ]
  },
  {
   "cell_type": "code",
   "execution_count": null,
   "id": "55359356",
   "metadata": {},
   "outputs": [],
   "source": [
    "def pack_pretonemap(base_path: str, output_path: str, max_frame: int):\n",
    "    os.makedirs(output_path, exist_ok=True)\n",
    "\n",
    "    def pack_frame(frame_no: int):\n",
    "        if frame_no < 2:\n",
    "            return\n",
    "        idx = \".\" + str(frame_no).zfill(4) + \".exr\"\n",
    "\n",
    "        pretonemap_metallic = ImageUtils.load_exr_image_opencv(f\"{base_path}\\\\{GB_TYPE.PRETONEMAP_METALLIC.value}{idx}\")\n",
    "\n",
    "        # Packed IDX start from 0000\n",
    "        idx = \".\" + str(frame_no - 2).zfill(4) + \".exr\"\n",
    "\n",
    "        ImageUtils.save_exr_image_opencv(pretonemap_metallic[:, :, 0:3], f\"{output_path}\\\\Asian_Village_DemoPreTonemapHDRColor{idx}\")\n",
    "\n",
    "    with concurrent.futures.ThreadPoolExecutor() as executor:\n",
    "        list(tqdm(executor.map(pack_frame, range(2, max_frame + 1)), total=max_frame - 1, desc=\"Packing frames\"))"
   ]
  },
  {
   "cell_type": "code",
   "execution_count": null,
   "id": "a8088e59",
   "metadata": {},
   "outputs": [],
   "source": [
    "base_path = \"D:\\\\Dev\\\\MinorProjDataset\\\\Data\\\\dfasr\"\n",
    "src_folder = \"DowntownWest_1\"\n",
    "total_frames = 187"
   ]
  },
  {
   "cell_type": "code",
   "execution_count": null,
   "id": "1189c1aa",
   "metadata": {},
   "outputs": [],
   "source": [
    "pack_pretonemap(f\"{base_path}\\\\{src_folder}\\\\1080P\", f\"{base_path}\\\\DFASR_Packed\\\\Nojitter-1080P\", total_frames)"
   ]
  },
  {
   "cell_type": "code",
   "execution_count": null,
   "id": "9fe6e7ed",
   "metadata": {},
   "outputs": [],
   "source": [
    "pack(f\"{base_path}\\\\{src_folder}\\\\1080P\", f\"{base_path}\\\\DFASR_Packed\\\\GBuffer-1080P\", total_frames)"
   ]
  },
  {
   "cell_type": "code",
   "execution_count": null,
   "id": "5b850567",
   "metadata": {},
   "outputs": [],
   "source": [
    "pack(f\"{base_path}\\\\{src_folder}\\\\540P\", f\"{base_path}\\\\DFASR_Packed\\\\Nojitter-540P\", total_frames)"
   ]
  },
  {
   "cell_type": "code",
   "execution_count": null,
   "id": "90c78e3c",
   "metadata": {},
   "outputs": [],
   "source": [
    "pack(f\"{base_path}\\\\{src_folder}\\\\360P\", f\"{base_path}\\\\DFASR_Packed\\\\Nojitter-360P\", total_frames)"
   ]
  },
  {
   "cell_type": "code",
   "execution_count": null,
   "id": "1a10fa24",
   "metadata": {},
   "outputs": [],
   "source": [
    "pack(f\"{base_path}\\\\{src_folder}\\\\270P\", f\"{base_path}\\\\DFASR_Packed\\\\Nojitter-270P\", total_frames)"
   ]
  }
 ],
 "metadata": {
  "kernelspec": {
   "display_name": ".venv",
   "language": "python",
   "name": "python3"
  },
  "language_info": {
   "codemirror_mode": {
    "name": "ipython",
    "version": 3
   },
   "file_extension": ".py",
   "mimetype": "text/x-python",
   "name": "python",
   "nbconvert_exporter": "python",
   "pygments_lexer": "ipython3",
   "version": "3.12.4"
  }
 },
 "nbformat": 4,
 "nbformat_minor": 5
}

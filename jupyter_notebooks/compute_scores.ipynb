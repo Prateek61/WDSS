{
 "cells": [
  {
   "cell_type": "code",
   "execution_count": 1,
   "metadata": {},
   "outputs": [
    {
     "name": "stdout",
     "output_type": "stream",
     "text": [
      "c:\\Dev\\MinorProject\\WDSS\\jupyter_notebooks\n",
      "c:\\Dev\\MinorProject\\WDSS\n"
     ]
    }
   ],
   "source": [
    "import os\n",
    "# Display current working directory\n",
    "print(os.getcwd())\n",
    "# To make sure opencv imports .exr files\n",
    "os.environ[\"OPENCV_IO_ENABLE_OPENEXR\"] = \"1\"\n",
    "# If the current directory is not WDSS, then set it to one level up\n",
    "if os.getcwd()[-4:] != 'WDSS':\n",
    "    os.chdir('..')\n",
    "print(os.getcwd())"
   ]
  },
  {
   "cell_type": "code",
   "execution_count": 8,
   "metadata": {},
   "outputs": [],
   "source": [
    "import torch\n",
    "import torch.nn as nn\n",
    "import torch.nn.functional as F\n",
    "import torch.optim as optim\n",
    "from torch.optim.lr_scheduler import StepLR\n",
    "import numpy as np\n",
    "import cv2\n",
    "import matplotlib.pyplot as plt\n",
    "import time\n",
    "\n",
    "from typing import List, Tuple, Dict\n",
    "\n",
    "from config import device, Settings\n",
    "from commons import initialize\n",
    "from utils import *\n",
    "from tqdm import tqdm\n",
    "from network.losses import ImageEvaluator"
   ]
  },
  {
   "cell_type": "code",
   "execution_count": 9,
   "metadata": {},
   "outputs": [
    {
     "name": "stdout",
     "output_type": "stream",
     "text": [
      "Job: tiwari_extranet_frfr, Model: WDSSv5, Device: cuda\n",
      "Model path: out\\tiwari_extranet_frfr-WDSSv5\\model\n",
      "Log path: out\\tiwari_extranet_frfr-WDSSv5\\logs\n",
      "Setting up [LPIPS] perceptual loss: trunk [vgg], v[0.1], spatial [off]\n"
     ]
    },
    {
     "name": "stderr",
     "output_type": "stream",
     "text": [
      "c:\\Dev\\MinorProject\\WDSS\\.venv\\Lib\\site-packages\\torchvision\\models\\_utils.py:208: UserWarning: The parameter 'pretrained' is deprecated since 0.13 and may be removed in the future, please use 'weights' instead.\n",
      "  warnings.warn(\n",
      "c:\\Dev\\MinorProject\\WDSS\\.venv\\Lib\\site-packages\\torchvision\\models\\_utils.py:223: UserWarning: Arguments other than a weight enum or `None` for 'weights' are deprecated since 0.13 and may be removed in the future. The current behavior is equivalent to passing `weights=VGG16_Weights.IMAGENET1K_V1`. You can also use `weights=VGG16_Weights.DEFAULT` to get the most up-to-date weights.\n",
      "  warnings.warn(msg)\n"
     ]
    },
    {
     "name": "stdout",
     "output_type": "stream",
     "text": [
      "Loading model from: c:\\Dev\\MinorProject\\WDSS\\.venv\\Lib\\site-packages\\lpips\\weights\\v0.1\\vgg.pth\n"
     ]
    }
   ],
   "source": [
    "settings = Settings(\"config/config.json\", \"WDSSv5\")\n",
    "initialize(settings)\n",
    "ImageEvaluator._setup_lpips()"
   ]
  },
  {
   "cell_type": "code",
   "execution_count": 5,
   "metadata": {},
   "outputs": [],
   "source": [
    "from network.dataset import *\n",
    "\n",
    "hable_tonemapper = BaseTonemapper.from_name(\"Hable-10\")\n",
    "srgb_tonemapper = BaseTonemapper.from_name(\"SRGB\")\n",
    "\n",
    "preprocessor_hable = Preprocessor.from_config(settings.preprocessor_config)\n",
    "preprocessor_hable.tonemapper = hable_tonemapper\n",
    "preprocessor_srgb = Preprocessor.from_config(settings.preprocessor_config)\n",
    "preprocessor_srgb.tonemapper = srgb_tonemapper\n",
    "\n",
    "val_hable = WDSSDatasetCompressed(settings.val_dir, settings.frames_per_zip, 0, 2.0, False, 8, preprocessor_hable, True)\n",
    "val_srgb = WDSSDatasetCompressed(settings.val_dir, settings.frames_per_zip, 0, 2.0, False, 8, preprocessor_srgb, True)\n",
    "test_hable = WDSSDatasetCompressed(settings.test_dir, settings.frames_per_zip, 0, 2.0, False, 8, preprocessor_hable, True)\n",
    "test_srgb = WDSSDatasetCompressed(settings.test_dir, settings.frames_per_zip, 0, 2.0, False, 8, preprocessor_srgb, True)"
   ]
  },
  {
   "cell_type": "code",
   "execution_count": 10,
   "metadata": {},
   "outputs": [],
   "source": [
    "from network.models.WDSS import get_wdss_model\n",
    "    \n",
    "# Model\n",
    "model = get_wdss_model(settings.model_config).to(device)\n",
    "\n",
    "from network.losses import CriterionSSIM_L1, CriterionSSIM_MSE\n",
    "\n",
    "criterion = CriterionSSIM_MSE().to(device)\n",
    "optimizer = optim.Adam(model.parameters(), lr=0.001)\n",
    "scheduler = StepLR(optimizer, step_size=20, gamma=0.5)\n",
    "\n",
    "from network.trainer import Trainer\n",
    "\n",
    "trainer = Trainer(settings, model, optimizer, scheduler, criterion, val_hable, val_hable, val_hable)"
   ]
  },
  {
   "cell_type": "code",
   "execution_count": 11,
   "metadata": {},
   "outputs": [
    {
     "name": "stdout",
     "output_type": "stream",
     "text": [
      "Checkpoint loaded epoch: 74\n"
     ]
    }
   ],
   "source": [
    "try:\n",
    "    # trainer.load_latest_checkpoint()\n",
    "    trainer.load_latest_checkpoint()\n",
    "    print(f\"Checkpoint loaded epoch: {trainer.total_epochs}\")\n",
    "except:\n",
    "    print(\"No checkpoint found\")"
   ]
  },
  {
   "cell_type": "code",
   "execution_count": null,
   "metadata": {},
   "outputs": [],
   "source": [
    "test_sequences: List[Tuple[str, WDSSDatasetCompressed, int, int]] = [\n",
    "    (\"Asian Village Hable\", val_hable, 0, 120),\n",
    "    (\"Industrial Hable\", val_hable, 120, 240),\n",
    "    (\"Brass Town Hable\", test_hable, 0, 120),\n",
    "    (\"Forest Hable\", test_hable, 120, 240),\n",
    "    (\"Supermarket Hable\", test_hable, 240, 360),\n",
    "    (\"Asian Village SRGB\", val_srgb, 0, 120),\n",
    "    (\"Industrial SRGB\", val_srgb, 120, 240),\n",
    "    (\"Brass Town SRGB\", test_srgb, 0, 120),\n",
    "    (\"Forest SRGB\", test_srgb, 120, 240),\n",
    "    (\"Supermarket SRGB\", test_srgb, 240, 360),\n",
    "]"
   ]
  },
  {
   "cell_type": "code",
   "execution_count": 15,
   "metadata": {},
   "outputs": [],
   "source": [
    "def score_sequence(name: str, dataset: WDSSDatasetCompressed, start: int, end: int) -> Tuple[float, float, float]:\n",
    "    print(f'Scoring {name}...')\n",
    "\n",
    "    model_ssim = 0.0\n",
    "    model_psnr = 0.0\n",
    "    model_lpips = 0.0\n",
    "\n",
    "    model.eval()\n",
    "    with torch.no_grad():\n",
    "        for i in tqdm(range(start, end)):\n",
    "            frame = dataset.get_inference_frame(i)\n",
    "            \n",
    "            lr = frame['LR'].to(device).unsqueeze(0)\n",
    "            gb = frame['GB'].to(device).unsqueeze(0)\n",
    "            temp = frame['TEMPORAL'].to(device).unsqueeze(0)\n",
    "            hr = frame['HR'].to(device).unsqueeze(0)\n",
    "            inference = frame['INFERENCE']\n",
    "\n",
    "            for key in inference:\n",
    "                inference[key] = inference[key].to(device).unsqueeze(0)\n",
    "\n",
    "            wavelet, image = model.forward(lr, gb, temp, 2.0)\n",
    "\n",
    "            # Postprocess\n",
    "            pred, _ = dataset.preprocessor.postprocess(image, inference)\n",
    "            gt, _ = dataset.preprocessor.postprocess(hr, inference)\n",
    "\n",
    "            model_ssim += ImageEvaluator.ssim(pred, gt).item()\n",
    "            model_psnr += ImageEvaluator.psnr(pred, gt, 1.0).item()\n",
    "            model_lpips += ImageEvaluator.lpips(pred, gt).item()\n",
    "\n",
    "    items = end - start\n",
    "    print(f'{name} SSIM: {model_ssim / items:.8f}')\n",
    "    print(f'{name} PSNR: {model_psnr / items:.8f}')\n",
    "    print(f'{name} LPIPS: {model_lpips / items:.8f}')\n",
    "\n",
    "    return model_ssim / items, model_psnr / items, model_lpips / items"
   ]
  },
  {
   "cell_type": "code",
   "execution_count": 16,
   "metadata": {},
   "outputs": [],
   "source": [
    "scores = []"
   ]
  },
  {
   "cell_type": "code",
   "execution_count": null,
   "metadata": {},
   "outputs": [],
   "source": [
    "for item in test_sequences:\n",
    "    name, dataset, start, end = item\n",
    "    ssim, psnr, lpips = score_sequence(name, dataset, start, end)\n",
    "    scores.append((name, ssim, psnr, lpips))"
   ]
  }
 ],
 "metadata": {
  "kernelspec": {
   "display_name": ".venv",
   "language": "python",
   "name": "python3"
  },
  "language_info": {
   "codemirror_mode": {
    "name": "ipython",
    "version": 3
   },
   "file_extension": ".py",
   "mimetype": "text/x-python",
   "name": "python",
   "nbconvert_exporter": "python",
   "pygments_lexer": "ipython3",
   "version": "3.12.4"
  }
 },
 "nbformat": 4,
 "nbformat_minor": 2
}

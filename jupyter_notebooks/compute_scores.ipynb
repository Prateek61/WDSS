{
 "cells": [
  {
   "cell_type": "code",
   "execution_count": 1,
   "metadata": {},
   "outputs": [
    {
     "name": "stdout",
     "output_type": "stream",
     "text": [
      "c:\\Dev\\MinorProject\\WDSS\\jupyter_notebooks\n",
      "c:\\Dev\\MinorProject\\WDSS\n"
     ]
    }
   ],
   "source": [
    "import os\n",
    "# Display current working directory\n",
    "print(os.getcwd())\n",
    "# To make sure opencv imports .exr files\n",
    "os.environ[\"OPENCV_IO_ENABLE_OPENEXR\"] = \"1\"\n",
    "# If the current directory is not WDSS, then set it to one level up\n",
    "if os.getcwd()[-4:] != 'WDSS':\n",
    "    os.chdir('..')\n",
    "print(os.getcwd())"
   ]
  },
  {
   "cell_type": "code",
   "execution_count": 2,
   "metadata": {},
   "outputs": [],
   "source": [
    "import torch\n",
    "import torch.nn as nn\n",
    "import torch.nn.functional as F\n",
    "import torch.optim as optim\n",
    "from torch.optim.lr_scheduler import StepLR\n",
    "import numpy as np\n",
    "import cv2\n",
    "import matplotlib.pyplot as plt\n",
    "import time\n",
    "\n",
    "from typing import List, Tuple, Dict\n",
    "\n",
    "from config import device, Settings\n",
    "from commons import initialize\n",
    "from utils import *\n",
    "from tqdm import tqdm\n",
    "from network.losses import ImageEvaluator"
   ]
  },
  {
   "cell_type": "code",
   "execution_count": 3,
   "metadata": {},
   "outputs": [
    {
     "name": "stdout",
     "output_type": "stream",
     "text": [
      "Job: Navin_relu_mse, Model: WDSSV5, Device: cuda\n",
      "Model path: out\\Navin_relu_mse-WDSSV5\\model\n",
      "Log path: out\\Navin_relu_mse-WDSSV5\\logs\n",
      "Setting up [LPIPS] perceptual loss: trunk [vgg], v[0.1], spatial [off]\n"
     ]
    },
    {
     "name": "stderr",
     "output_type": "stream",
     "text": [
      "c:\\Dev\\MinorProject\\WDSS\\.venv\\Lib\\site-packages\\torchvision\\models\\_utils.py:208: UserWarning: The parameter 'pretrained' is deprecated since 0.13 and may be removed in the future, please use 'weights' instead.\n",
      "  warnings.warn(\n",
      "c:\\Dev\\MinorProject\\WDSS\\.venv\\Lib\\site-packages\\torchvision\\models\\_utils.py:223: UserWarning: Arguments other than a weight enum or `None` for 'weights' are deprecated since 0.13 and may be removed in the future. The current behavior is equivalent to passing `weights=VGG16_Weights.IMAGENET1K_V1`. You can also use `weights=VGG16_Weights.DEFAULT` to get the most up-to-date weights.\n",
      "  warnings.warn(msg)\n"
     ]
    },
    {
     "name": "stdout",
     "output_type": "stream",
     "text": [
      "Loading model from: c:\\Dev\\MinorProject\\WDSS\\.venv\\Lib\\site-packages\\lpips\\weights\\v0.1\\vgg.pth\n"
     ]
    }
   ],
   "source": [
    "settings = Settings(\"config/config.json\", \"WDSSV5\")\n",
    "initialize(settings)\n",
    "ImageEvaluator._setup_lpips()"
   ]
  },
  {
   "cell_type": "code",
   "execution_count": 4,
   "metadata": {},
   "outputs": [],
   "source": [
    "from network.dataset import *\n",
    "\n",
    "hable_tonemapper = BaseTonemapper.from_name(\"Hable-10\")\n",
    "srgb_tonemapper = BaseTonemapper.from_name(\"SRGB\")\n",
    "\n",
    "preprocessor_hable = Preprocessor.from_config(settings.preprocessor_config)\n",
    "preprocessor_hable.tonemapper = hable_tonemapper\n",
    "preprocessor_srgb = Preprocessor.from_config(settings.preprocessor_config)\n",
    "preprocessor_srgb.tonemapper = srgb_tonemapper\n",
    "\n",
    "val_hable = WDSSDatasetCompressed(settings.val_dir, settings.frames_per_zip, 0, 2.0, False, 8, preprocessor_hable, True)\n",
    "val_srgb = WDSSDatasetCompressed(settings.val_dir, settings.frames_per_zip, 0, 2.0, False, 8, preprocessor_srgb, True)\n",
    "test_hable = WDSSDatasetCompressed(settings.test_dir, settings.frames_per_zip, 0, 2.0, False, 8, preprocessor_hable, True)\n",
    "test_srgb = WDSSDatasetCompressed(settings.test_dir, settings.frames_per_zip, 0, 2.0, False, 8, preprocessor_srgb, True)"
   ]
  },
  {
   "cell_type": "code",
   "execution_count": 5,
   "metadata": {},
   "outputs": [],
   "source": [
    "from network.models.WDSS import get_wdss_model\n",
    "    \n",
    "# Model\n",
    "model = get_wdss_model(settings.model_config).to(device)\n",
    "\n",
    "from network.losses import CriterionSSIM_L1, CriterionSSIM_MSE\n",
    "\n",
    "criterion = CriterionSSIM_MSE().to(device)\n",
    "optimizer = optim.Adam(model.parameters(), lr=0.001)\n",
    "scheduler = StepLR(optimizer, step_size=20, gamma=0.5)\n",
    "\n",
    "from network.trainer import Trainer\n",
    "\n",
    "trainer = Trainer(settings, model, optimizer, scheduler, criterion, val_hable, val_hable, val_hable)"
   ]
  },
  {
   "cell_type": "code",
   "execution_count": 6,
   "metadata": {},
   "outputs": [
    {
     "name": "stdout",
     "output_type": "stream",
     "text": [
      "Checkpoint loaded epoch: 77\n"
     ]
    }
   ],
   "source": [
    "try:\n",
    "    # trainer.load_latest_checkpoint()\n",
    "    trainer.load_best_checkpoint()\n",
    "    print(f\"Checkpoint loaded epoch: {trainer.total_epochs}\")\n",
    "except:\n",
    "    print(\"No checkpoint found\")"
   ]
  },
  {
   "cell_type": "code",
   "execution_count": 7,
   "metadata": {},
   "outputs": [],
   "source": [
    "test_sequences: List[Tuple[str, WDSSDatasetCompressed, int, int]] = [\n",
    "    (\"Asian Village Hable\", val_hable, 0, 120),\n",
    "    (\"Industrial Hable\", val_hable, 120, 240),\n",
    "    (\"Brass Town Hable\", test_hable, 0, 120),\n",
    "    (\"Forest Hable\", test_hable, 120, 240),\n",
    "    (\"Supermarket Hable\", test_hable, 240, 360),\n",
    "    (\"Asian Village SRGB\", val_srgb, 0, 120),\n",
    "    (\"Industrial SRGB\", val_srgb, 120, 240),\n",
    "    (\"Brass Town SRGB\", test_srgb, 0, 120),\n",
    "    (\"Forest SRGB\", test_srgb, 120, 240),\n",
    "    (\"Supermarket SRGB\", test_srgb, 240, 360),\n",
    "]"
   ]
  },
  {
   "cell_type": "code",
   "execution_count": 8,
   "metadata": {},
   "outputs": [],
   "source": [
    "def score_sequence(name: str, dataset: WDSSDatasetCompressed, start: int, end: int) -> Tuple[float, float, float]:\n",
    "    print(f'Scoring {name}...')\n",
    "\n",
    "    model_ssim = 0.0\n",
    "    model_psnr = 0.0\n",
    "    model_lpips = 0.0\n",
    "\n",
    "    model.eval()\n",
    "    with torch.no_grad():\n",
    "        for i in tqdm(range(start, end)):\n",
    "            frame = dataset.get_inference_frame(i)\n",
    "            \n",
    "            lr = frame['LR'].to(device).unsqueeze(0)\n",
    "            gb = frame['GB'].to(device).unsqueeze(0)\n",
    "            temp = frame['TEMPORAL'].to(device).unsqueeze(0)\n",
    "            hr = frame['HR'].to(device).unsqueeze(0)\n",
    "            inference = frame['INFERENCE']\n",
    "\n",
    "            for key in inference:\n",
    "                inference[key] = inference[key].to(device).unsqueeze(0)\n",
    "\n",
    "            wavelet, image = model.forward(lr, gb, temp, 2.0)\n",
    "\n",
    "            # Postprocess\n",
    "            pred, _ = dataset.preprocessor.postprocess(image, inference)\n",
    "            gt, _ = dataset.preprocessor.postprocess(hr, inference)\n",
    "\n",
    "            model_ssim += ImageEvaluator.ssim(pred, gt).item()\n",
    "            model_psnr += ImageEvaluator.psnr(pred, gt, 1.0).item()\n",
    "            model_lpips += ImageEvaluator.lpips(pred, gt).item()\n",
    "\n",
    "    items = end - start\n",
    "    print(f'{name} SSIM: {model_ssim / items:.8f}')\n",
    "    print(f'{name} PSNR: {model_psnr / items:.8f}')\n",
    "    print(f'{name} LPIPS: {model_lpips / items:.8f}')\n",
    "\n",
    "    return model_ssim / items, model_psnr / items, model_lpips / items"
   ]
  },
  {
   "cell_type": "code",
   "execution_count": 9,
   "metadata": {},
   "outputs": [],
   "source": [
    "scores = []"
   ]
  },
  {
   "cell_type": "code",
   "execution_count": 10,
   "metadata": {},
   "outputs": [
    {
     "name": "stdout",
     "output_type": "stream",
     "text": [
      "Scoring Asian Village Hable...\n"
     ]
    },
    {
     "ename": "KeyboardInterrupt",
     "evalue": "",
     "output_type": "error",
     "traceback": [
      "\u001b[1;31m---------------------------------------------------------------------------\u001b[0m",
      "\u001b[1;31mKeyboardInterrupt\u001b[0m                         Traceback (most recent call last)",
      "Cell \u001b[1;32mIn[10], line 3\u001b[0m\n\u001b[0;32m      1\u001b[0m \u001b[38;5;28;01mfor\u001b[39;00m item \u001b[38;5;129;01min\u001b[39;00m test_sequences:\n\u001b[0;32m      2\u001b[0m     name, dataset, start, end \u001b[38;5;241m=\u001b[39m item\n\u001b[1;32m----> 3\u001b[0m     ssim, psnr, lpips \u001b[38;5;241m=\u001b[39m \u001b[43mscore_sequence\u001b[49m\u001b[43m(\u001b[49m\u001b[43mname\u001b[49m\u001b[43m,\u001b[49m\u001b[43m \u001b[49m\u001b[43mdataset\u001b[49m\u001b[43m,\u001b[49m\u001b[43m \u001b[49m\u001b[43mstart\u001b[49m\u001b[43m,\u001b[49m\u001b[43m \u001b[49m\u001b[43mend\u001b[49m\u001b[43m)\u001b[49m\n\u001b[0;32m      4\u001b[0m     scores\u001b[38;5;241m.\u001b[39mappend((name, ssim, psnr, lpips))\n",
      "Cell \u001b[1;32mIn[8], line 10\u001b[0m, in \u001b[0;36mscore_sequence\u001b[1;34m(name, dataset, start, end)\u001b[0m\n\u001b[0;32m      8\u001b[0m model\u001b[38;5;241m.\u001b[39meval()\n\u001b[0;32m      9\u001b[0m \u001b[38;5;28;01mwith\u001b[39;00m torch\u001b[38;5;241m.\u001b[39mno_grad():\n\u001b[1;32m---> 10\u001b[0m     \u001b[38;5;28;01mfor\u001b[39;00m i \u001b[38;5;129;01min\u001b[39;00m \u001b[43mtqdm\u001b[49m\u001b[43m(\u001b[49m\u001b[38;5;28;43mrange\u001b[39;49m\u001b[43m(\u001b[49m\u001b[43mstart\u001b[49m\u001b[43m,\u001b[49m\u001b[43m \u001b[49m\u001b[43mend\u001b[49m\u001b[43m)\u001b[49m\u001b[43m)\u001b[49m:\n\u001b[0;32m     11\u001b[0m         frame \u001b[38;5;241m=\u001b[39m dataset\u001b[38;5;241m.\u001b[39mget_inference_frame(i)\n\u001b[0;32m     13\u001b[0m         lr \u001b[38;5;241m=\u001b[39m frame[\u001b[38;5;124m'\u001b[39m\u001b[38;5;124mLR\u001b[39m\u001b[38;5;124m'\u001b[39m]\u001b[38;5;241m.\u001b[39mto(device)\u001b[38;5;241m.\u001b[39munsqueeze(\u001b[38;5;241m0\u001b[39m)\n",
      "File \u001b[1;32mc:\\Dev\\MinorProject\\WDSS\\.venv\\Lib\\site-packages\\tqdm\\std.py:1096\u001b[0m, in \u001b[0;36mtqdm.__init__\u001b[1;34m(self, iterable, desc, total, leave, file, ncols, mininterval, maxinterval, miniters, ascii, disable, unit, unit_scale, dynamic_ncols, smoothing, bar_format, initial, position, postfix, unit_divisor, write_bytes, lock_args, nrows, colour, delay, gui, **kwargs)\u001b[0m\n\u001b[0;32m   1092\u001b[0m     \u001b[38;5;28mself\u001b[39m\u001b[38;5;241m.\u001b[39mpos \u001b[38;5;241m=\u001b[39m \u001b[38;5;28mself\u001b[39m\u001b[38;5;241m.\u001b[39m_get_free_pos(\u001b[38;5;28mself\u001b[39m) \u001b[38;5;28;01mif\u001b[39;00m position \u001b[38;5;129;01mis\u001b[39;00m \u001b[38;5;28;01mNone\u001b[39;00m \u001b[38;5;28;01melse\u001b[39;00m \u001b[38;5;241m-\u001b[39mposition\n\u001b[0;32m   1094\u001b[0m \u001b[38;5;28;01mif\u001b[39;00m \u001b[38;5;129;01mnot\u001b[39;00m gui:\n\u001b[0;32m   1095\u001b[0m     \u001b[38;5;66;03m# Initialize the screen printer\u001b[39;00m\n\u001b[1;32m-> 1096\u001b[0m     \u001b[38;5;28mself\u001b[39m\u001b[38;5;241m.\u001b[39msp \u001b[38;5;241m=\u001b[39m \u001b[38;5;28;43mself\u001b[39;49m\u001b[38;5;241;43m.\u001b[39;49m\u001b[43mstatus_printer\u001b[49m\u001b[43m(\u001b[49m\u001b[38;5;28;43mself\u001b[39;49m\u001b[38;5;241;43m.\u001b[39;49m\u001b[43mfp\u001b[49m\u001b[43m)\u001b[49m\n\u001b[0;32m   1097\u001b[0m     \u001b[38;5;28;01mif\u001b[39;00m delay \u001b[38;5;241m<\u001b[39m\u001b[38;5;241m=\u001b[39m \u001b[38;5;241m0\u001b[39m:\n\u001b[0;32m   1098\u001b[0m         \u001b[38;5;28mself\u001b[39m\u001b[38;5;241m.\u001b[39mrefresh(lock_args\u001b[38;5;241m=\u001b[39m\u001b[38;5;28mself\u001b[39m\u001b[38;5;241m.\u001b[39mlock_args)\n",
      "File \u001b[1;32mc:\\Dev\\MinorProject\\WDSS\\.venv\\Lib\\site-packages\\tqdm\\std.py:448\u001b[0m, in \u001b[0;36mtqdm.status_printer\u001b[1;34m(file)\u001b[0m\n\u001b[0;32m    446\u001b[0m fp_flush \u001b[38;5;241m=\u001b[39m \u001b[38;5;28mgetattr\u001b[39m(fp, \u001b[38;5;124m'\u001b[39m\u001b[38;5;124mflush\u001b[39m\u001b[38;5;124m'\u001b[39m, \u001b[38;5;28;01mlambda\u001b[39;00m: \u001b[38;5;28;01mNone\u001b[39;00m)  \u001b[38;5;66;03m# pragma: no cover\u001b[39;00m\n\u001b[0;32m    447\u001b[0m \u001b[38;5;28;01mif\u001b[39;00m fp \u001b[38;5;129;01min\u001b[39;00m (sys\u001b[38;5;241m.\u001b[39mstderr, sys\u001b[38;5;241m.\u001b[39mstdout):\n\u001b[1;32m--> 448\u001b[0m     \u001b[38;5;28;43mgetattr\u001b[39;49m\u001b[43m(\u001b[49m\u001b[43msys\u001b[49m\u001b[38;5;241;43m.\u001b[39;49m\u001b[43mstderr\u001b[49m\u001b[43m,\u001b[49m\u001b[43m \u001b[49m\u001b[38;5;124;43m'\u001b[39;49m\u001b[38;5;124;43mflush\u001b[39;49m\u001b[38;5;124;43m'\u001b[39;49m\u001b[43m,\u001b[49m\u001b[43m \u001b[49m\u001b[38;5;28;43;01mlambda\u001b[39;49;00m\u001b[43m:\u001b[49m\u001b[43m \u001b[49m\u001b[38;5;28;43;01mNone\u001b[39;49;00m\u001b[43m)\u001b[49m\u001b[43m(\u001b[49m\u001b[43m)\u001b[49m\n\u001b[0;32m    449\u001b[0m     \u001b[38;5;28mgetattr\u001b[39m(sys\u001b[38;5;241m.\u001b[39mstdout, \u001b[38;5;124m'\u001b[39m\u001b[38;5;124mflush\u001b[39m\u001b[38;5;124m'\u001b[39m, \u001b[38;5;28;01mlambda\u001b[39;00m: \u001b[38;5;28;01mNone\u001b[39;00m)()\n\u001b[0;32m    451\u001b[0m \u001b[38;5;28;01mdef\u001b[39;00m\u001b[38;5;250m \u001b[39m\u001b[38;5;21mfp_write\u001b[39m(s):\n",
      "File \u001b[1;32mc:\\Dev\\MinorProject\\WDSS\\.venv\\Lib\\site-packages\\ipykernel\\iostream.py:604\u001b[0m, in \u001b[0;36mOutStream.flush\u001b[1;34m(self)\u001b[0m\n\u001b[0;32m    593\u001b[0m \u001b[38;5;250m\u001b[39m\u001b[38;5;124;03m\"\"\"trigger actual zmq send\u001b[39;00m\n\u001b[0;32m    594\u001b[0m \n\u001b[0;32m    595\u001b[0m \u001b[38;5;124;03msend will happen in the background thread\u001b[39;00m\n\u001b[0;32m    596\u001b[0m \u001b[38;5;124;03m\"\"\"\u001b[39;00m\n\u001b[0;32m    597\u001b[0m \u001b[38;5;28;01mif\u001b[39;00m (\n\u001b[0;32m    598\u001b[0m     \u001b[38;5;28mself\u001b[39m\u001b[38;5;241m.\u001b[39mpub_thread\n\u001b[0;32m    599\u001b[0m     \u001b[38;5;129;01mand\u001b[39;00m \u001b[38;5;28mself\u001b[39m\u001b[38;5;241m.\u001b[39mpub_thread\u001b[38;5;241m.\u001b[39mthread \u001b[38;5;129;01mis\u001b[39;00m \u001b[38;5;129;01mnot\u001b[39;00m \u001b[38;5;28;01mNone\u001b[39;00m\n\u001b[1;32m   (...)\u001b[0m\n\u001b[0;32m    602\u001b[0m ):\n\u001b[0;32m    603\u001b[0m     \u001b[38;5;66;03m# request flush on the background thread\u001b[39;00m\n\u001b[1;32m--> 604\u001b[0m     \u001b[38;5;28;43mself\u001b[39;49m\u001b[38;5;241;43m.\u001b[39;49m\u001b[43mpub_thread\u001b[49m\u001b[38;5;241;43m.\u001b[39;49m\u001b[43mschedule\u001b[49m\u001b[43m(\u001b[49m\u001b[38;5;28;43mself\u001b[39;49m\u001b[38;5;241;43m.\u001b[39;49m\u001b[43m_flush\u001b[49m\u001b[43m)\u001b[49m\n\u001b[0;32m    605\u001b[0m     \u001b[38;5;66;03m# wait for flush to actually get through, if we can.\u001b[39;00m\n\u001b[0;32m    606\u001b[0m     evt \u001b[38;5;241m=\u001b[39m threading\u001b[38;5;241m.\u001b[39mEvent()\n",
      "File \u001b[1;32mc:\\Dev\\MinorProject\\WDSS\\.venv\\Lib\\site-packages\\ipykernel\\iostream.py:267\u001b[0m, in \u001b[0;36mIOPubThread.schedule\u001b[1;34m(self, f)\u001b[0m\n\u001b[0;32m    265\u001b[0m     \u001b[38;5;28mself\u001b[39m\u001b[38;5;241m.\u001b[39m_events\u001b[38;5;241m.\u001b[39mappend(f)\n\u001b[0;32m    266\u001b[0m     \u001b[38;5;66;03m# wake event thread (message content is ignored)\u001b[39;00m\n\u001b[1;32m--> 267\u001b[0m     \u001b[38;5;28;43mself\u001b[39;49m\u001b[38;5;241;43m.\u001b[39;49m\u001b[43m_event_pipe\u001b[49m\u001b[38;5;241;43m.\u001b[39;49m\u001b[43msend\u001b[49m\u001b[43m(\u001b[49m\u001b[38;5;124;43mb\u001b[39;49m\u001b[38;5;124;43m\"\u001b[39;49m\u001b[38;5;124;43m\"\u001b[39;49m\u001b[43m)\u001b[49m\n\u001b[0;32m    268\u001b[0m \u001b[38;5;28;01melse\u001b[39;00m:\n\u001b[0;32m    269\u001b[0m     f()\n",
      "File \u001b[1;32mc:\\Dev\\MinorProject\\WDSS\\.venv\\Lib\\site-packages\\zmq\\sugar\\socket.py:707\u001b[0m, in \u001b[0;36mSocket.send\u001b[1;34m(self, data, flags, copy, track, routing_id, group)\u001b[0m\n\u001b[0;32m    700\u001b[0m         data \u001b[38;5;241m=\u001b[39m zmq\u001b[38;5;241m.\u001b[39mFrame(\n\u001b[0;32m    701\u001b[0m             data,\n\u001b[0;32m    702\u001b[0m             track\u001b[38;5;241m=\u001b[39mtrack,\n\u001b[0;32m    703\u001b[0m             copy\u001b[38;5;241m=\u001b[39mcopy \u001b[38;5;129;01mor\u001b[39;00m \u001b[38;5;28;01mNone\u001b[39;00m,\n\u001b[0;32m    704\u001b[0m             copy_threshold\u001b[38;5;241m=\u001b[39m\u001b[38;5;28mself\u001b[39m\u001b[38;5;241m.\u001b[39mcopy_threshold,\n\u001b[0;32m    705\u001b[0m         )\n\u001b[0;32m    706\u001b[0m     data\u001b[38;5;241m.\u001b[39mgroup \u001b[38;5;241m=\u001b[39m group\n\u001b[1;32m--> 707\u001b[0m \u001b[38;5;28;01mreturn\u001b[39;00m \u001b[38;5;28;43msuper\u001b[39;49m\u001b[43m(\u001b[49m\u001b[43m)\u001b[49m\u001b[38;5;241;43m.\u001b[39;49m\u001b[43msend\u001b[49m\u001b[43m(\u001b[49m\u001b[43mdata\u001b[49m\u001b[43m,\u001b[49m\u001b[43m \u001b[49m\u001b[43mflags\u001b[49m\u001b[38;5;241;43m=\u001b[39;49m\u001b[43mflags\u001b[49m\u001b[43m,\u001b[49m\u001b[43m \u001b[49m\u001b[43mcopy\u001b[49m\u001b[38;5;241;43m=\u001b[39;49m\u001b[43mcopy\u001b[49m\u001b[43m,\u001b[49m\u001b[43m \u001b[49m\u001b[43mtrack\u001b[49m\u001b[38;5;241;43m=\u001b[39;49m\u001b[43mtrack\u001b[49m\u001b[43m)\u001b[49m\n",
      "File \u001b[1;32m_zmq.py:1092\u001b[0m, in \u001b[0;36mzmq.backend.cython._zmq.Socket.send\u001b[1;34m()\u001b[0m\n",
      "File \u001b[1;32m_zmq.py:1140\u001b[0m, in \u001b[0;36mzmq.backend.cython._zmq.Socket.send\u001b[1;34m()\u001b[0m\n",
      "File \u001b[1;32m_zmq.py:1339\u001b[0m, in \u001b[0;36mzmq.backend.cython._zmq._send_copy\u001b[1;34m()\u001b[0m\n",
      "File \u001b[1;32m_zmq.py:160\u001b[0m, in \u001b[0;36mzmq.backend.cython._zmq._check_rc\u001b[1;34m()\u001b[0m\n",
      "\u001b[1;31mKeyboardInterrupt\u001b[0m: "
     ]
    }
   ],
   "source": [
    "for item in test_sequences:\n",
    "    name, dataset, start, end = item\n",
    "    ssim, psnr, lpips = score_sequence(name, dataset, start, end)\n",
    "    scores.append((name, ssim, psnr, lpips))"
   ]
  }
 ],
 "metadata": {
  "kernelspec": {
   "display_name": ".venv",
   "language": "python",
   "name": "python3"
  },
  "language_info": {
   "codemirror_mode": {
    "name": "ipython",
    "version": 3
   },
   "file_extension": ".py",
   "mimetype": "text/x-python",
   "name": "python",
   "nbconvert_exporter": "python",
   "pygments_lexer": "ipython3",
   "version": "3.12.4"
  }
 },
 "nbformat": 4,
 "nbformat_minor": 2
}

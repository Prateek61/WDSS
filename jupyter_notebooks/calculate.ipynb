{
 "cells": [
  {
   "cell_type": "code",
   "execution_count": 1,
   "metadata": {},
   "outputs": [
    {
     "name": "stdout",
     "output_type": "stream",
     "text": [
      "d:\\College\\III_year_II_part\\WDSS\\jupyter_notebooks\n",
      "d:\\College\\III_year_II_part\\WDSS\n"
     ]
    }
   ],
   "source": [
    "import os\n",
    "# Display current working directory\n",
    "print(os.getcwd())\n",
    "# To make sure opencv imports .exr files\n",
    "os.environ[\"OPENCV_IO_ENABLE_OPENEXR\"] = \"1\"\n",
    "# If the current directory is not WDSS, then set it to one level up\n",
    "if os.getcwd()[-4:] != 'WDSS':\n",
    "    os.chdir('..')\n",
    "print(os.getcwd())"
   ]
  },
  {
   "cell_type": "code",
   "execution_count": 2,
   "metadata": {},
   "outputs": [],
   "source": [
    "import torch\n",
    "import torch.nn as nn\n",
    "import torch.nn.functional as F\n",
    "import torch.optim as optim\n",
    "from torch.optim.lr_scheduler import StepLR\n",
    "import numpy as np\n",
    "import cv2\n",
    "import matplotlib.pyplot as plt\n",
    "import time\n",
    "\n",
    "from typing import List, Tuple, Dict\n",
    "\n",
    "from config import device, Settings\n",
    "from commons import initialize"
   ]
  },
  {
   "cell_type": "code",
   "execution_count": 3,
   "metadata": {},
   "outputs": [
    {
     "name": "stdout",
     "output_type": "stream",
     "text": [
      "Job: prashant_pt_nonormal, Model: WDSSV5, Device: cuda\n",
      "Model path: out\\prashant_pt_nonormal-WDSSV5\\model\n",
      "Log path: out\\prashant_pt_nonormal-WDSSV5\\logs\n"
     ]
    }
   ],
   "source": [
    "settings = Settings(\"config/config.json\", \"WDSSV5\")\n",
    "initialize(settings=settings)"
   ]
  },
  {
   "cell_type": "code",
   "execution_count": 4,
   "metadata": {},
   "outputs": [],
   "source": [
    "from network.dataset import *\n",
    "\n",
    "train_dataset, val_dataset, test_dataset = WDSSDatasetCompressed.get_datasets(settings)"
   ]
  },
  {
   "cell_type": "code",
   "execution_count": 5,
   "metadata": {},
   "outputs": [],
   "source": [
    "from network.models.WDSS import get_wdss_model\n",
    "    \n",
    "# Model\n",
    "model = get_wdss_model(settings.model_config).to(device)"
   ]
  },
  {
   "cell_type": "code",
   "execution_count": null,
   "metadata": {},
   "outputs": [
    {
     "name": "stdout",
     "output_type": "stream",
     "text": [
      "Setting up [LPIPS] perceptual loss: trunk [vgg], v[0.1], spatial [off]\n"
     ]
    },
    {
     "name": "stderr",
     "output_type": "stream",
     "text": [
      "d:\\College\\III_year_II_part\\WDSS\\.conda\\Lib\\site-packages\\torchvision\\models\\_utils.py:208: UserWarning: The parameter 'pretrained' is deprecated since 0.13 and may be removed in the future, please use 'weights' instead.\n",
      "  warnings.warn(\n",
      "d:\\College\\III_year_II_part\\WDSS\\.conda\\Lib\\site-packages\\torchvision\\models\\_utils.py:223: UserWarning: Arguments other than a weight enum or `None` for 'weights' are deprecated since 0.13 and may be removed in the future. The current behavior is equivalent to passing `weights=VGG16_Weights.IMAGENET1K_V1`. You can also use `weights=VGG16_Weights.DEFAULT` to get the most up-to-date weights.\n",
      "  warnings.warn(msg)\n"
     ]
    },
    {
     "name": "stdout",
     "output_type": "stream",
     "text": [
      "Loading model from: d:\\College\\III_year_II_part\\WDSS\\.conda\\Lib\\site-packages\\lpips\\weights\\v0.1\\vgg.pth\n",
      "Setting up [LPIPS] perceptual loss: trunk [vgg], v[0.1], spatial [off]\n"
     ]
    },
    {
     "name": "stderr",
     "output_type": "stream",
     "text": [
      "d:\\College\\III_year_II_part\\WDSS\\.conda\\Lib\\site-packages\\lpips\\lpips.py:107: FutureWarning: You are using `torch.load` with `weights_only=False` (the current default value), which uses the default pickle module implicitly. It is possible to construct malicious pickle data which will execute arbitrary code during unpickling (See https://github.com/pytorch/pytorch/blob/main/SECURITY.md#untrusted-models for more details). In a future release, the default value for `weights_only` will be flipped to `True`. This limits the functions that could be executed during unpickling. Arbitrary objects will no longer be allowed to be loaded via this mode unless they are explicitly allowlisted by the user via `torch.serialization.add_safe_globals`. We recommend you start setting `weights_only=True` for any use case where you don't have full control of the loaded file. Please open an issue on GitHub for any issues related to this experimental feature.\n",
      "  self.load_state_dict(torch.load(model_path, map_location='cpu'), strict=False)\n"
     ]
    },
    {
     "name": "stdout",
     "output_type": "stream",
     "text": [
      "Loading model from: d:\\College\\III_year_II_part\\WDSS\\.conda\\Lib\\site-packages\\lpips\\weights\\v0.1\\vgg.pth\n"
     ]
    }
   ],
   "source": [
    "from network.losses import Criterion_Combined\n",
    "\n",
    "criterion = Criterion_Combined({\n",
    "                'l1': 0.5,\n",
    "                'ssim': 0.05, \n",
    "                'lpips': 0.05,\n",
    "                'l1_wave': 0.5,\n",
    "                'ssim_wave': 0.05\n",
    "            })\n",
    "optimizer = optim.Adam(model.parameters(), lr=0.0001)\n",
    "scheduler = StepLR(optimizer, step_size=20, gamma=0.5)"
   ]
  },
  {
   "cell_type": "code",
   "execution_count": 7,
   "metadata": {},
   "outputs": [],
   "source": [
    "from torch.utils.data import DataLoader"
   ]
  },
  {
   "cell_type": "code",
   "execution_count": 8,
   "metadata": {},
   "outputs": [
    {
     "name": "stdout",
     "output_type": "stream",
     "text": [
      "tensor(0., device='cuda:0', grad_fn=<MeanBackward0>)\n",
      "tensor(0., device='cuda:0', grad_fn=<AddBackward0>)\n"
     ]
    }
   ],
   "source": [
    "data_loader = DataLoader(train_dataset, batch_size=8, shuffle=True, num_workers=0)\n",
    "\n",
    "for batch in data_loader:\n",
    "    hr = batch[\"HR\"].to(device)\n",
    "    wavelet = WaveletProcessor.batch_wt(hr)\n",
    "    hr_2 = hr.clone()\n",
    "    wavelet_2 = WaveletProcessor.batch_wt(hr_2)\n",
    "    loss, _ = criterion.forward(wavelet, wavelet_2, hr, hr_2)\n",
    "\n",
    "    print(loss)\n",
    "    break"
   ]
  }
 ],
 "metadata": {
  "kernelspec": {
   "display_name": "Python 3",
   "language": "python",
   "name": "python3"
  },
  "language_info": {
   "codemirror_mode": {
    "name": "ipython",
    "version": 3
   },
   "file_extension": ".py",
   "mimetype": "text/x-python",
   "name": "python",
   "nbconvert_exporter": "python",
   "pygments_lexer": "ipython3",
   "version": "3.12.8"
  }
 },
 "nbformat": 4,
 "nbformat_minor": 2
}

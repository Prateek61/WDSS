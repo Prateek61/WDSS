{
 "cells": [
  {
   "cell_type": "code",
   "execution_count": 16,
   "metadata": {},
   "outputs": [
    {
     "name": "stdout",
     "output_type": "stream",
     "text": [
      "c:\\Dev\\MinorProject\\WDSS\n",
      "c:\\Dev\\MinorProject\\WDSS\n"
     ]
    }
   ],
   "source": [
    "import os\n",
    "# Display current working directory\n",
    "print(os.getcwd())\n",
    "# To make sure opencv imports .exr files\n",
    "os.environ[\"OPENCV_IO_ENABLE_OPENEXR\"] = \"1\"\n",
    "# If the current directory is not WDSS, then set it to one level up\n",
    "if os.getcwd()[-4:] != 'WDSS':\n",
    "    os.chdir('..')\n",
    "print(os.getcwd())"
   ]
  },
  {
   "cell_type": "code",
   "execution_count": 17,
   "metadata": {},
   "outputs": [],
   "source": [
    "import torch\n",
    "import torch.nn as nn\n",
    "import torch.nn.functional as F\n",
    "import torch.optim as optim\n",
    "from torch.optim.lr_scheduler import StepLR\n",
    "import numpy as np\n",
    "import cv2\n",
    "import matplotlib.pyplot as plt\n",
    "import time\n",
    "\n",
    "from typing import List, Tuple, Dict\n",
    "\n",
    "from config import device, Settings\n",
    "from commons import initialize"
   ]
  },
  {
   "cell_type": "code",
   "execution_count": 3,
   "metadata": {},
   "outputs": [],
   "source": [
    "video_out_dir = \"out/video\""
   ]
  },
  {
   "cell_type": "code",
   "execution_count": 18,
   "metadata": {},
   "outputs": [
    {
     "name": "stdout",
     "output_type": "stream",
     "text": [
      "Job: Navin_relu_mse, Model: WDSSV5, Device: cuda\n",
      "Model path: out\\Navin_relu_mse-WDSSV5\\model\n",
      "Log path: out\\Navin_relu_mse-WDSSV5\\logs\n"
     ]
    }
   ],
   "source": [
    "settings = Settings(\"config/config.json\", \"WDSSV5\")\n",
    "initialize(settings=settings)"
   ]
  },
  {
   "cell_type": "code",
   "execution_count": 20,
   "metadata": {},
   "outputs": [
    {
     "name": "stdout",
     "output_type": "stream",
     "text": [
      "Test dataset size:  360\n"
     ]
    }
   ],
   "source": [
    "from network.dataset import *\n",
    "\n",
    "train_dataset, val_dataset, test_dataset = WDSSDatasetCompressed.get_datasets(settings)\n",
    "print(\"Test dataset size: \", len(test_dataset))"
   ]
  },
  {
   "cell_type": "code",
   "execution_count": 21,
   "metadata": {},
   "outputs": [],
   "source": [
    "from network.models.WDSS import get_wdss_model\n",
    "    \n",
    "# Model\n",
    "model = get_wdss_model(settings.model_config).to(device)"
   ]
  },
  {
   "cell_type": "code",
   "execution_count": 22,
   "metadata": {},
   "outputs": [],
   "source": [
    "from network.losses import CriterionSSIM_L1, CriterionSSIM_MSE\n",
    "\n",
    "criterion = CriterionSSIM_MSE().to(device)\n",
    "optimizer = optim.Adam(model.parameters(), lr=0.001)\n",
    "scheduler = StepLR(optimizer, step_size=20, gamma=0.5)"
   ]
  },
  {
   "cell_type": "code",
   "execution_count": 23,
   "metadata": {},
   "outputs": [],
   "source": [
    "from network.trainer import Trainer\n",
    "\n",
    "trainer = Trainer(settings, model, optimizer, scheduler, criterion, train_dataset, val_dataset, test_dataset)"
   ]
  },
  {
   "cell_type": "code",
   "execution_count": 24,
   "metadata": {},
   "outputs": [
    {
     "name": "stdout",
     "output_type": "stream",
     "text": [
      "Checkpoint loaded epoch: 77\n"
     ]
    }
   ],
   "source": [
    "try:\n",
    "    trainer.load_best_checkpoint()\n",
    "    print(f\"Checkpoint loaded epoch: {trainer.total_epochs}\")\n",
    "except:\n",
    "    print(\"No checkpoint found\")"
   ]
  },
  {
   "cell_type": "code",
   "execution_count": 10,
   "metadata": {},
   "outputs": [
    {
     "name": "stdout",
     "output_type": "stream",
     "text": [
      "Total frames: 120\n"
     ]
    }
   ],
   "source": [
    "total_frames = 120\n",
    "print(f\"Total frames: {total_frames}\")"
   ]
  },
  {
   "cell_type": "code",
   "execution_count": null,
   "metadata": {},
   "outputs": [
    {
     "name": "stderr",
     "output_type": "stream",
     "text": [
      "100%|██████████| 120/120 [03:31<00:00,  1.76s/it]\n"
     ]
    }
   ],
   "source": [
    "from tqdm import tqdm\n",
    "\n",
    "trainer.model.eval()\n",
    "\n",
    "for frame_no in tqdm(range(total_frames)):\n",
    "    raw_frames = test_dataset[frame_no]\n",
    "    lr = raw_frames['LR'].to(device).unsqueeze(0)\n",
    "    gb = raw_frames['GB'].to(device).unsqueeze(0)\n",
    "    temp = raw_frames['TEMPORAL'].to(device).unsqueeze(0)\n",
    "    hr = raw_frames['HR'].to(device).unsqueeze(0)\n",
    "\n",
    "    with torch.no_grad():\n",
    "        wavelet, image = trainer.model.forward(lr, gb, temp, 2.0)\n",
    "\n",
    "    # Store the output images\n",
    "    res_cv = ImageUtils.tensor_to_opencv_image(image.detach().cpu().clamp(0, 1))\n",
    "    res_cv = (res_cv * 255).astype(np.uint8)\n",
    "    res_cv = res_cv[..., [2, 1, 0]]  # Swap red and blue channels\n",
    "    cv2.imwrite(f\"{video_out_dir}/res/frame_{frame_no:04d}.jpg\", res_cv)\n",
    "    \n",
    "    hr_cv = ImageUtils.tensor_to_opencv_image(hr.detach().cpu().clamp(0, 1))\n",
    "    hr_cv = (hr_cv * 255).astype(np.uint8)\n",
    "    hr_cv = hr_cv[..., [2, 1, 0]]  # Swap red and blue channels\n",
    "    cv2.imwrite(f\"{video_out_dir}/hr/frame_{frame_no:04d}.jpg\", hr_cv)\n",
    "\n",
    "    # LR frame\n",
    "    lr_cv = ImageUtils.tensor_to_opencv_image(lr.detach().cpu().clamp(0, 1))\n",
    "    lr_cv = (lr_cv * 255).astype(np.uint8)\n",
    "    lr_cv = lr_cv[..., [2, 1, 0]]  # Swap red and blue channels\n",
    "    cv2.imwrite(f\"{video_out_dir}/lr/frame_{frame_no:04d}.jpg\", lr_cv)\n",
    "\n",
    "    # cv2.imwrite(\"out/video/1.png\", res_cv)\n",
    "\n",
    "    # ImageUtils.display_images([res_cv, hr_cv])\n",
    "    \n"
   ]
  },
  {
   "cell_type": "code",
   "execution_count": 14,
   "metadata": {},
   "outputs": [],
   "source": [
    "# Load the output images and create a video\n",
    "import cv2\n",
    "import os\n",
    "\n",
    "image_folder = f\"{video_out_dir}/res\"\n",
    "video_name = f\"{video_out_dir}/res_video.mp4\"\n",
    "\n",
    "images = [img for img in os.listdir(image_folder) if img.endswith(\".jpg\")]\n",
    "frame = cv2.imread(os.path.join(image_folder, images[0]))\n",
    "height, width, layers = frame.shape\n",
    "\n",
    "# Define the codec and create VideoWriter object\n",
    "fourcc = cv2.VideoWriter_fourcc(*'mp4v')\n",
    "video = cv2.VideoWriter(video_name, fourcc, 60, (width, height))\n",
    "\n",
    "for image in images:\n",
    "    video.write(cv2.imread(os.path.join(image_folder, image)))\n",
    "\n",
    "cv2.destroyAllWindows()\n",
    "video.release()\n"
   ]
  },
  {
   "cell_type": "code",
   "execution_count": 29,
   "metadata": {},
   "outputs": [],
   "source": [
    "# Compute average losses\n",
    "from network.losses import ImageEvaluator\n",
    "\n",
    "total_ssim = 0.0\n",
    "total_mse = 0.0\n",
    "total_l1 = 0.0\n",
    "total_psnr = 0.0\n",
    "total_lpips = 0.0\n",
    "\n",
    "total_ssim_bilinear = 0.0\n",
    "total_mse_bilinear = 0.0\n",
    "total_l1_bilinear = 0.0\n",
    "total_psnr_bilinear = 0.0\n",
    "total_lpips_bilinear = 0.0"
   ]
  },
  {
   "cell_type": "code",
   "execution_count": 30,
   "metadata": {},
   "outputs": [
    {
     "name": "stderr",
     "output_type": "stream",
     "text": [
      "100%|██████████| 120/120 [07:42<00:00,  3.85s/it]\n"
     ]
    }
   ],
   "source": [
    "from utils.wavelet import WaveletProcessor\n",
    "from tqdm import tqdm\n",
    "\n",
    "model.eval()\n",
    "with torch.no_grad():\n",
    "    for i in tqdm(range(240, 360)):\n",
    "        frame = test_dataset.get_inference_frame(i)\n",
    "        log_frames = test_dataset.get_log_frames(i)\n",
    "\n",
    "        lr = frame['LR'].to(device).unsqueeze(0)\n",
    "        gb = frame['GB'].to(device).unsqueeze(0)\n",
    "        temp = frame['TEMPORAL'].to(device).unsqueeze(0)\n",
    "        hr = frame['HR'].to(device).unsqueeze(0)\n",
    "        inference = frame['INFERENCE']\n",
    "\n",
    "        wavelet, image = model.forward(lr, gb, temp, 2.0)\n",
    "\n",
    "        # Postprocess\n",
    "        final, frames = test_dataset.preprocessor.postprocess(image, inference)\n",
    "        gt = log_frames['HR'].to(device).unsqueeze(0)\n",
    "        lr_frame = log_frames['LR'].to(device).unsqueeze(0)\n",
    "\n",
    "        # Bilinearly upsample the LR image\n",
    "        ups = ImageUtils.upsample(lr_frame, 2)\n",
    "\n",
    "        # Compute the metrics\n",
    "        total_mse += ImageEvaluator.mse(final, gt).item()\n",
    "        total_ssim += ImageEvaluator.ssim(final, gt).item()\n",
    "        total_l1 += ImageEvaluator.l1(final, gt).item()\n",
    "        total_psnr += ImageEvaluator.psnr(final, gt, 1.0).item()\n",
    "        total_lpips += ImageEvaluator.lpips(final, gt).item()\n",
    "\n",
    "        total_ssim_bilinear += ImageEvaluator.ssim(ups, gt).item()\n",
    "        total_mse_bilinear += ImageEvaluator.mse(ups, gt).item()\n",
    "        total_l1_bilinear += ImageEvaluator.l1(ups, gt).item()\n",
    "        total_psnr_bilinear += ImageEvaluator.psnr(ups, gt, 1.0).item()\n",
    "        total_lpips_bilinear += ImageEvaluator.lpips(ups, gt).item()\n"
   ]
  },
  {
   "cell_type": "code",
   "execution_count": 31,
   "metadata": {},
   "outputs": [
    {
     "name": "stdout",
     "output_type": "stream",
     "text": [
      "Metrics for the model\n",
      "SSIM: 0.8619747459888458\n",
      "MSE: 0.0015514181092536699\n",
      "L1: 0.027032192486027878\n",
      "PSNR: 28.267547941207887\n",
      "LPIPS: 0.2706432558596134\n",
      "Metrics for the bilinear model\n",
      "SSIM: 0.9081082423528035\n",
      "MSE: 0.0008547476674721111\n",
      "L1: 0.011790875764563679\n",
      "PSNR: 31.40296723047892\n",
      "LPIPS: 0.21754737980663777\n"
     ]
    }
   ],
   "source": [
    "# Print all\n",
    "length = 120\n",
    "\n",
    "print(\"Metrics for the model\")\n",
    "print(f\"SSIM: {total_ssim / length}\")\n",
    "print(f\"MSE: {total_mse / length}\")\n",
    "print(f\"L1: {total_l1 / length}\")\n",
    "print(f\"PSNR: {total_psnr / length}\")\n",
    "print(f\"LPIPS: {total_lpips / length}\")\n",
    "\n",
    "print(\"Metrics for the bilinear model\")\n",
    "print(f\"SSIM: {total_ssim_bilinear / length}\")\n",
    "print(f\"MSE: {total_mse_bilinear / length}\")\n",
    "print(f\"L1: {total_l1_bilinear / length}\")\n",
    "print(f\"PSNR: {total_psnr_bilinear / length}\")\n",
    "print(f\"LPIPS: {total_lpips_bilinear / length}\")"
   ]
  }
 ],
 "metadata": {
  "kernelspec": {
   "display_name": ".venv",
   "language": "python",
   "name": "python3"
  },
  "language_info": {
   "codemirror_mode": {
    "name": "ipython",
    "version": 3
   },
   "file_extension": ".py",
   "mimetype": "text/x-python",
   "name": "python",
   "nbconvert_exporter": "python",
   "pygments_lexer": "ipython3",
   "version": "3.12.4"
  }
 },
 "nbformat": 4,
 "nbformat_minor": 2
}

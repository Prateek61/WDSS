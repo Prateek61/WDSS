{
 "cells": [
  {
   "cell_type": "code",
   "execution_count": 1,
   "metadata": {},
   "outputs": [
    {
     "name": "stdout",
     "output_type": "stream",
     "text": [
      "c:\\Dev\\MinorProject\\WDSS\\jupyter_notebooks\n",
      "c:\\Dev\\MinorProject\\WDSS\n"
     ]
    }
   ],
   "source": [
    "import os\n",
    "# Display current working directory\n",
    "print(os.getcwd())\n",
    "# To make sure opencv imports .exr files\n",
    "os.environ[\"OPENCV_IO_ENABLE_OPENEXR\"] = \"1\"\n",
    "# If the current directory is not WDSS, then set it to one level up\n",
    "if os.getcwd()[-4:] != 'WDSS':\n",
    "    os.chdir('..')\n",
    "print(os.getcwd())"
   ]
  },
  {
   "cell_type": "code",
   "execution_count": 2,
   "metadata": {},
   "outputs": [],
   "source": [
    "import torch\n",
    "import torch.nn as nn\n",
    "import torch.nn.functional as F\n",
    "import torch.optim as optim\n",
    "from torch.optim.lr_scheduler import StepLR\n",
    "import numpy as np\n",
    "import cv2\n",
    "import matplotlib.pyplot as plt\n",
    "import time\n",
    "\n",
    "from typing import List, Tuple, Dict\n",
    "\n",
    "from config import device, Settings\n",
    "from commons import initialize"
   ]
  },
  {
   "cell_type": "code",
   "execution_count": 3,
   "metadata": {},
   "outputs": [],
   "source": [
    "video_out_dir = \"out/video\""
   ]
  },
  {
   "cell_type": "code",
   "execution_count": 4,
   "metadata": {},
   "outputs": [
    {
     "name": "stdout",
     "output_type": "stream",
     "text": [
      "Job: Navin_relu_mse, Model: WDSSV5, Device: cuda\n",
      "Model path: out\\Navin_relu_mse-WDSSV5\\model\n",
      "Log path: out\\Navin_relu_mse-WDSSV5\\logs\n"
     ]
    }
   ],
   "source": [
    "settings = Settings(\"config/config.json\", \"WDSSV5\")\n",
    "initialize(settings=settings)"
   ]
  },
  {
   "cell_type": "code",
   "execution_count": 5,
   "metadata": {},
   "outputs": [],
   "source": [
    "from network.dataset import *\n",
    "\n",
    "train_dataset, val_dataset, test_dataset = WDSSDatasetCompressed.get_datasets(settings)"
   ]
  },
  {
   "cell_type": "code",
   "execution_count": 6,
   "metadata": {},
   "outputs": [],
   "source": [
    "from network.models.WDSS import get_wdss_model\n",
    "    \n",
    "# Model\n",
    "model = get_wdss_model(settings.model_config).to(device)"
   ]
  },
  {
   "cell_type": "code",
   "execution_count": 7,
   "metadata": {},
   "outputs": [
    {
     "name": "stdout",
     "output_type": "stream",
     "text": [
      "Setting up [LPIPS] perceptual loss: trunk [vgg], v[0.1], spatial [off]\n"
     ]
    },
    {
     "name": "stderr",
     "output_type": "stream",
     "text": [
      "c:\\Dev\\MinorProject\\WDSS\\.venv\\Lib\\site-packages\\torchvision\\models\\_utils.py:208: UserWarning: The parameter 'pretrained' is deprecated since 0.13 and may be removed in the future, please use 'weights' instead.\n",
      "  warnings.warn(\n",
      "c:\\Dev\\MinorProject\\WDSS\\.venv\\Lib\\site-packages\\torchvision\\models\\_utils.py:223: UserWarning: Arguments other than a weight enum or `None` for 'weights' are deprecated since 0.13 and may be removed in the future. The current behavior is equivalent to passing `weights=VGG16_Weights.IMAGENET1K_V1`. You can also use `weights=VGG16_Weights.DEFAULT` to get the most up-to-date weights.\n",
      "  warnings.warn(msg)\n"
     ]
    },
    {
     "name": "stdout",
     "output_type": "stream",
     "text": [
      "Loading model from: c:\\Dev\\MinorProject\\WDSS\\.venv\\Lib\\site-packages\\lpips\\weights\\v0.1\\vgg.pth\n"
     ]
    },
    {
     "name": "stderr",
     "output_type": "stream",
     "text": [
      "c:\\Dev\\MinorProject\\WDSS\\.venv\\Lib\\site-packages\\lpips\\lpips.py:107: FutureWarning: You are using `torch.load` with `weights_only=False` (the current default value), which uses the default pickle module implicitly. It is possible to construct malicious pickle data which will execute arbitrary code during unpickling (See https://github.com/pytorch/pytorch/blob/main/SECURITY.md#untrusted-models for more details). In a future release, the default value for `weights_only` will be flipped to `True`. This limits the functions that could be executed during unpickling. Arbitrary objects will no longer be allowed to be loaded via this mode unless they are explicitly allowlisted by the user via `torch.serialization.add_safe_globals`. We recommend you start setting `weights_only=True` for any use case where you don't have full control of the loaded file. Please open an issue on GitHub for any issues related to this experimental feature.\n",
      "  self.load_state_dict(torch.load(model_path, map_location='cpu'), strict=False)\n"
     ]
    }
   ],
   "source": [
    "from network.losses import CriterionSSIM_L1, CriterionSSIM_MSE\n",
    "\n",
    "criterion = CriterionSSIM_MSE().to(device)\n",
    "optimizer = optim.Adam(model.parameters(), lr=0.001)\n",
    "scheduler = StepLR(optimizer, step_size=20, gamma=0.5)"
   ]
  },
  {
   "cell_type": "code",
   "execution_count": 8,
   "metadata": {},
   "outputs": [],
   "source": [
    "from network.trainer import Trainer\n",
    "\n",
    "trainer = Trainer(settings, model, optimizer, scheduler, criterion, train_dataset, val_dataset, test_dataset)"
   ]
  },
  {
   "cell_type": "code",
   "execution_count": 9,
   "metadata": {},
   "outputs": [
    {
     "name": "stdout",
     "output_type": "stream",
     "text": [
      "Checkpoint loaded epoch: 77\n"
     ]
    }
   ],
   "source": [
    "try:\n",
    "    trainer.load_best_checkpoint()\n",
    "    print(f\"Checkpoint loaded epoch: {trainer.total_epochs}\")\n",
    "except:\n",
    "    print(\"No checkpoint found\")"
   ]
  },
  {
   "cell_type": "code",
   "execution_count": 10,
   "metadata": {},
   "outputs": [
    {
     "name": "stdout",
     "output_type": "stream",
     "text": [
      "Total frames: 120\n"
     ]
    }
   ],
   "source": [
    "total_frames = 120\n",
    "print(f\"Total frames: {total_frames}\")"
   ]
  },
  {
   "cell_type": "code",
   "execution_count": 11,
   "metadata": {},
   "outputs": [
    {
     "name": "stderr",
     "output_type": "stream",
     "text": [
      "100%|██████████| 120/120 [03:31<00:00,  1.76s/it]\n"
     ]
    }
   ],
   "source": [
    "from tqdm import tqdm\n",
    "\n",
    "trainer.model.eval()\n",
    "\n",
    "for frame_no in tqdm(range(total_frames)):\n",
    "    raw_frames = test_dataset[frame_no]\n",
    "    lr = raw_frames['LR'].to(device).unsqueeze(0)\n",
    "    gb = raw_frames['GB'].to(device).unsqueeze(0)\n",
    "    temp = raw_frames['TEMPORAL'].to(device).unsqueeze(0)\n",
    "    hr = raw_frames['HR'].to(device).unsqueeze(0)\n",
    "\n",
    "    with torch.no_grad():\n",
    "        wavelet, image = trainer.model.forward(lr, gb, temp, 2.0)\n",
    "\n",
    "    # Store the output images\n",
    "    res_cv = ImageUtils.tensor_to_opencv_image(image.detach().cpu().clamp(0, 1))\n",
    "    res_cv = (res_cv * 255).astype(np.uint8)\n",
    "    res_cv = res_cv[..., [2, 1, 0]]  # Swap red and blue channels\n",
    "    cv2.imwrite(f\"{video_out_dir}/res/frame_{frame_no:04d}.jpg\", res_cv)\n",
    "    \n",
    "    hr_cv = ImageUtils.tensor_to_opencv_image(hr.detach().cpu().clamp(0, 1))\n",
    "    hr_cv = (hr_cv * 255).astype(np.uint8)\n",
    "    hr_cv = hr_cv[..., [2, 1, 0]]  # Swap red and blue channels\n",
    "    cv2.imwrite(f\"{video_out_dir}/hr/frame_{frame_no:04d}.jpg\", hr_cv)\n",
    "\n",
    "    # LR frame\n",
    "    lr_cv = ImageUtils.tensor_to_opencv_image(lr.detach().cpu().clamp(0, 1))\n",
    "    lr_cv = (lr_cv * 255).astype(np.uint8)\n",
    "    lr_cv = lr_cv[..., [2, 1, 0]]  # Swap red and blue channels\n",
    "    cv2.imwrite(f\"{video_out_dir}/lr/frame_{frame_no:04d}.jpg\", lr_cv)\n",
    "\n",
    "    # cv2.imwrite(\"out/video/1.png\", res_cv)\n",
    "\n",
    "    # ImageUtils.display_images([res_cv, hr_cv])\n",
    "    \n"
   ]
  },
  {
   "cell_type": "code",
   "execution_count": 14,
   "metadata": {},
   "outputs": [],
   "source": [
    "# Load the output images and create a video\n",
    "import cv2\n",
    "import os\n",
    "\n",
    "image_folder = f\"{video_out_dir}/res\"\n",
    "video_name = f\"{video_out_dir}/res_video.mp4\"\n",
    "\n",
    "images = [img for img in os.listdir(image_folder) if img.endswith(\".jpg\")]\n",
    "frame = cv2.imread(os.path.join(image_folder, images[0]))\n",
    "height, width, layers = frame.shape\n",
    "\n",
    "# Define the codec and create VideoWriter object\n",
    "fourcc = cv2.VideoWriter_fourcc(*'mp4v')\n",
    "video = cv2.VideoWriter(video_name, fourcc, 60, (width, height))\n",
    "\n",
    "for image in images:\n",
    "    video.write(cv2.imread(os.path.join(image_folder, image)))\n",
    "\n",
    "cv2.destroyAllWindows()\n",
    "video.release()\n"
   ]
  },
  {
   "cell_type": "code",
   "execution_count": 19,
   "metadata": {},
   "outputs": [],
   "source": [
    "# Compute average losses\n",
    "from network.losses import ImageEvaluator\n",
    "\n",
    "total_ssim = 0.0\n",
    "total_mse = 0.0\n",
    "total_l1 = 0.0\n",
    "total_psnr = 0.0\n",
    "total_lpips = 0.0\n",
    "total_wavelet_ssim = 0.0\n",
    "total_wavelet_mse = 0.0\n",
    "total_wavelet_l1 = 0.0\n",
    "total_wavelet_psnr = 0.0\n",
    "total_wavelet_lpips = 0.0\n",
    "\n",
    "total_ssim_bilinear = 0.0\n",
    "total_mse_bilinear = 0.0\n",
    "total_l1_bilinear = 0.0\n",
    "total_psnr_bilinear = 0.0\n",
    "total_lpips_bilinear = 0.0"
   ]
  },
  {
   "cell_type": "code",
   "execution_count": 20,
   "metadata": {},
   "outputs": [
    {
     "name": "stderr",
     "output_type": "stream",
     "text": [
      "  0%|          | 0/238 [00:00<?, ?it/s]"
     ]
    },
    {
     "name": "stderr",
     "output_type": "stream",
     "text": [
      "100%|██████████| 238/238 [14:30<00:00,  3.66s/it]\n"
     ]
    }
   ],
   "source": [
    "from utils.wavelet import WaveletProcessor\n",
    "from tqdm import tqdm\n",
    "\n",
    "for i in tqdm(range(len(test_dataset))):\n",
    "    raw_frames = test_dataset[i]\n",
    "    lr = raw_frames['LR'].to(device).unsqueeze(0)\n",
    "    gb = raw_frames['GB'].to(device).unsqueeze(0)\n",
    "    temp = raw_frames['TEMPORAL'].to(device).unsqueeze(0)\n",
    "    hr = raw_frames['HR'].to(device).unsqueeze(0)\n",
    "\n",
    "    with torch.no_grad():\n",
    "        wavelet, image = trainer.model.forward(lr, gb, temp, 2.0)\n",
    "\n",
    "    # Bilinearly upsample the LR image\n",
    "    ups = ImageUtils.upsample(lr, 2)\n",
    "    # Wavelet transform the hr image\n",
    "    hr_wavelet = WaveletProcessor.batch_wt(hr)\n",
    "\n",
    "    # Compute the metrics\n",
    "    total_mse += ImageEvaluator.mse(image, hr).item()\n",
    "    total_ssim += ImageEvaluator.ssim(image, hr).item()\n",
    "    total_l1 += ImageEvaluator.l1(image, hr).item()\n",
    "    total_psnr += ImageEvaluator.psnr(image, hr, 1.0).item()\n",
    "    total_lpips += ImageEvaluator.lpips(image, hr).item()\n",
    "\n",
    "    total_wavelet_mse += ImageEvaluator.mse(wavelet, hr_wavelet).item()\n",
    "    total_wavelet_ssim += ((ImageEvaluator.ssim(wavelet[:, 0:3, :, :], hr_wavelet[:, 0:3, :, :]) + ImageEvaluator.ssim(wavelet[:, 3:6, :, :], hr_wavelet[:, 3:6, :, :]) + ImageEvaluator.ssim(wavelet[:, 6:9, :, :], hr_wavelet[:, 6:9, :, :]) + ImageEvaluator.ssim(wavelet[:, 9:12, :, :], hr_wavelet[:, 9:12, :, :])) / 4).item()\n",
    "    total_wavelet_l1 += ImageEvaluator.l1(wavelet, hr_wavelet).item()\n",
    "    total_wavelet_psnr += ImageEvaluator.psnr(wavelet, hr_wavelet, 2.0).item()\n",
    "    total_wavelet_lpips += ((ImageEvaluator.lpips(wavelet[:, 0:3, :, :], hr_wavelet[:, 0:3, :, :]) + ImageEvaluator.lpips(wavelet[:, 3:6, :, :], hr_wavelet[:, 3:6, :, :]) + ImageEvaluator.lpips(wavelet[:, 6:9, :, :], hr_wavelet[:, 6:9, :, :]) + ImageEvaluator.lpips(wavelet[:, 9:12, :, :], hr_wavelet[:, 9:12, :, :])) / 4).item()\n",
    "\n",
    "    total_mse_bilinear += ImageEvaluator.mse(ups, hr).item()\n",
    "    total_ssim_bilinear += ImageEvaluator.ssim(ups, hr).item()\n",
    "    total_l1_bilinear += ImageEvaluator.l1(ups, hr).item()\n",
    "    total_psnr_bilinear += ImageEvaluator.psnr(ups, hr, 1.0).item()\n",
    "    total_lpips_bilinear += ImageEvaluator.lpips(ups, hr).item()"
   ]
  },
  {
   "cell_type": "code",
   "execution_count": 21,
   "metadata": {},
   "outputs": [
    {
     "name": "stdout",
     "output_type": "stream",
     "text": [
      "Metrics for the model\n",
      "SSIM: 0.9375269112466764\n",
      "MSE: 0.0005352461289055841\n",
      "L1: 0.013167775729123284\n",
      "PSNR: 33.24649676956049\n",
      "LPIPS: 0.19275168110342586\n",
      "Metrics for the wavelet model\n",
      "SSIM: 0.9348329733900663\n",
      "MSE: 0.0006377929279276467\n",
      "L1: 0.00947199624517009\n",
      "PSNR: 39.104559096969474\n",
      "LPIPS: 0.13105929968487315\n",
      "Metrics for the bilinear model\n",
      "SSIM: 0.9360964976939834\n",
      "MSE: 0.00046700571506296895\n",
      "L1: 0.010743548293371036\n",
      "PSNR: 34.860456667026554\n",
      "LPIPS: 0.18343993548710807\n"
     ]
    }
   ],
   "source": [
    "# Print all\n",
    "print(\"Metrics for the model\")\n",
    "print(f\"SSIM: {total_ssim / len(test_dataset)}\")\n",
    "print(f\"MSE: {total_mse / len(test_dataset)}\")\n",
    "print(f\"L1: {total_l1 / len(test_dataset)}\")\n",
    "print(f\"PSNR: {total_psnr / len(test_dataset)}\")\n",
    "print(f\"LPIPS: {total_lpips / len(test_dataset)}\")\n",
    "\n",
    "print(\"Metrics for the wavelet model\")\n",
    "print(f\"SSIM: {total_wavelet_ssim / len(test_dataset)}\")\n",
    "print(f\"MSE: {total_wavelet_mse / len(test_dataset)}\")\n",
    "print(f\"L1: {total_wavelet_l1 / len(test_dataset)}\")\n",
    "print(f\"PSNR: {total_wavelet_psnr / len(test_dataset)}\")\n",
    "print(f\"LPIPS: {total_wavelet_lpips / len(test_dataset)}\")\n",
    "\n",
    "print(\"Metrics for the bilinear model\")\n",
    "print(f\"SSIM: {total_ssim_bilinear / len(test_dataset)}\")\n",
    "print(f\"MSE: {total_mse_bilinear / len(test_dataset)}\")\n",
    "print(f\"L1: {total_l1_bilinear / len(test_dataset)}\")\n",
    "print(f\"PSNR: {total_psnr_bilinear / len(test_dataset)}\")\n",
    "print(f\"LPIPS: {total_lpips_bilinear / len(test_dataset)}\")\n"
   ]
  }
 ],
 "metadata": {
  "kernelspec": {
   "display_name": ".venv",
   "language": "python",
   "name": "python3"
  },
  "language_info": {
   "codemirror_mode": {
    "name": "ipython",
    "version": 3
   },
   "file_extension": ".py",
   "mimetype": "text/x-python",
   "name": "python",
   "nbconvert_exporter": "python",
   "pygments_lexer": "ipython3",
   "version": "3.12.4"
  }
 },
 "nbformat": 4,
 "nbformat_minor": 2
}
